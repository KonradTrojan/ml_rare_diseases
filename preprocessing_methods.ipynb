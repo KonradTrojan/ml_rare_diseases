{
 "cells": [
  {
   "cell_type": "code",
   "execution_count": 1,
   "id": "9fd3a0e8-2a4c-4088-8759-cae8f63c820b",
   "metadata": {},
   "outputs": [],
   "source": [
    "import numpy as np\n",
    "import pandas as pd"
   ]
  },
  {
   "cell_type": "code",
   "execution_count": 2,
   "id": "69d28b84-9dca-4113-bc45-a9a41cd196b6",
   "metadata": {},
   "outputs": [],
   "source": [
    "def get_header(path, max_row):\n",
    "\n",
    "    h1 = pd.read_excel(path, skiprows=max_row - 3, nrows=1, usecols=\"A:JB\", header=None)\n",
    "    h1 = h1.replace(np.nan, '', regex=True)\n",
    "    h2 = pd.read_excel(path, skiprows=max_row - 2, nrows=1, usecols=\"A:JB\", header=None)\n",
    "    h2 = h2.replace(np.nan, '', regex=True)\n",
    "    h3 = pd.read_excel(path, skiprows=max_row - 1, nrows=1, usecols=\"A:JB\", header=None)\n",
    "    h3 = h3.replace(np.nan, '', regex=True)\n",
    "\n",
    "    header = h1 + \", \" + h2 + \", \" + h3\n",
    "    return header.values.tolist()[0]"
   ]
  },
  {
   "cell_type": "code",
   "execution_count": 3,
   "id": "4619efa1-b43c-4290-b21c-57bd63b3fd4f",
   "metadata": {},
   "outputs": [],
   "source": [
    "def one_unit_creatinine(df):\n",
    "\n",
    "    new_columns = []\n",
    "\n",
    "    for index, row in df.iterrows():\n",
    "        if row['Przebieg choroby, Maksymalne stężenie kreatyniny, umol/l'] == 1:\n",
    "            new_value = row['Przebieg choroby, Maksymalne stężenie kreatyniny, '] / 88.4\n",
    "            new_columns.append(new_value)\n",
    "        else:\n",
    "            new_columns.append(row['Przebieg choroby, Maksymalne stężenie kreatyniny, '])\n",
    "\n",
    "    df.insert(loc=53, column='Przebieg choroby, Maksymalne stężenie kreatyniny, mg/dl, ujednolicone',\n",
    "              value=new_columns)"
   ]
  },
  {
   "cell_type": "code",
   "execution_count": 4,
   "id": "d9f0ffe6-3cb6-4d5d-a558-1bb6d06f497e",
   "metadata": {},
   "outputs": [],
   "source": [
    "def get_cols_contains_value(df, value):\n",
    "    num_of_cols = df.shape[1]\n",
    "    selected_cols = []\n",
    "    for i in range(num_of_cols):\n",
    "        a = df.iloc[:, i]\n",
    "        b = a.isin([value])\n",
    "        c = b.any()\n",
    "        if c:\n",
    "            selected_cols.append(i)\n",
    "    return selected_cols"
   ]
  },
  {
   "cell_type": "code",
   "execution_count": 5,
   "id": "5b1ae0c7-b90b-476e-b33a-11aa69a5921d",
   "metadata": {},
   "outputs": [],
   "source": [
    "def replace_value(df, beforeValue, afterValue):\n",
    "    columns = get_cols_contains_value(df, beforeValue)\n",
    "    for i in columns:\n",
    "        df.iloc[:, i] = df.iloc[:, i].replace(beforeValue, afterValue)"
   ]
  },
  {
   "cell_type": "code",
   "execution_count": 6,
   "id": "320ef30a-c9ff-4459-95a2-c4a72851986c",
   "metadata": {},
   "outputs": [],
   "source": [
    "def get_list_of_deaths_columns():\n",
    "    return ['Przebieg choroby, Zgon pacjenta, Nie',\n",
    "            'Przebieg choroby, Zgon pacjenta, Infekcja',\n",
    "            'Przebieg choroby, Zgon pacjenta, Nowotwór',\n",
    "            'Przebieg choroby, Zgon pacjenta, Zapalenie naczyń',\n",
    "            'Przebieg choroby, Zgon pacjenta, Incydent sercowo-naczyniowy',\n",
    "            'Przebieg choroby, Zgon pacjenta, Inna',\n",
    "            'Przebieg choroby, Zgon pacjenta, Brak danych']"
   ]
  },
  {
   "cell_type": "code",
   "execution_count": 7,
   "id": "c1375600-4067-4d84-9c83-39c7d88dcf56",
   "metadata": {},
   "outputs": [],
   "source": [
    "def get_list_of_dialysis_columns():\n",
    "    return ['Leczenie, Pacjent dializowany  , Nie',\n",
    "            'Leczenie, Pacjent dializowany  , Przejściowo',\n",
    "            'Leczenie, Pacjent dializowany  , Brak danych']"
   ]
  }
 ],
 "metadata": {
  "kernelspec": {
   "display_name": "Python 3",
   "language": "python",
   "name": "python3"
  },
  "language_info": {
   "codemirror_mode": {
    "name": "ipython",
    "version": 3
   },
   "file_extension": ".py",
   "mimetype": "text/x-python",
   "name": "python",
   "nbconvert_exporter": "python",
   "pygments_lexer": "ipython3",
   "version": "3.7.9"
  }
 },
 "nbformat": 4,
 "nbformat_minor": 5
}
