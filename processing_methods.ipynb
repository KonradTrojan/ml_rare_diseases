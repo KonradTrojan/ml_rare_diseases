{
 "cells": [
  {
   "cell_type": "code",
   "execution_count": 1,
   "id": "bb710189-b207-413a-a89e-2c994921ab0d",
   "metadata": {},
   "outputs": [],
   "source": [
    "import numpy as np\n",
    "import pandas as pd\n",
    "from sklearn import preprocessing\n",
    "from sklearn.model_selection import train_test_split"
   ]
  },
  {
   "cell_type": "code",
   "execution_count": 2,
   "id": "1e8b0d9a-f3a5-4f62-a75d-63af547f65df",
   "metadata": {},
   "outputs": [],
   "source": [
    "def get_train_test_sets(y, x, test_size):\n",
    "    x_train, x_test, y_train, y_test = train_test_split(x_, y_, test_size=test_size)\n",
    "    return x_train, x_test, y_train, y_test"
   ]
  },
  {
   "cell_type": "code",
   "execution_count": 3,
   "id": "bf44c243-ff94-4e4e-8a3d-675105775d14",
   "metadata": {},
   "outputs": [],
   "source": [
    "def get_train_validation_test_sets(x, y, train_size, test_size):\n",
    "    \n",
    "    x_train, x_test, y_train, y_test = train_test_split(x, y, train_size=train_size, random_state=0)\n",
    "    x_test, x_valid, y_test, y_valid = train_test_split(x_test, y_test, train_size=test_size, random_state=1)\n",
    "    \n",
    "    return x_train, x_test, x_valid, y_train, y_test, y_valid"
   ]
  },
  {
   "cell_type": "code",
   "execution_count": 4,
   "id": "0548b907-427f-42c1-880c-c1c64481ef3a",
   "metadata": {},
   "outputs": [],
   "source": [
    "def get_list_of_continuous_column():\n",
    "    return ['Przebieg choroby, Maksymalne stężnenie CRP [mg/l] w momencie rozpoznania choroby, ',\n",
    "            'Leczenie, Całkowita dawka kumulacyjna [g], ',\n",
    "            'Leczenie, Skumulowany czas stosowania sterydów w latach , ',\n",
    "            'Leczenie, Całkowita dawka kumulacyjna [mg], ',\n",
    "            'Badania Laboratoryjne , ANCA IF typ świecenia, ',\n",
    "            'Przebieg choroby, Maksymalne stężenie kreatyniny, mg/dl, ujednolicone',\n",
    "            'Przebieg choroby, Czas między rozpoznaniem choroby a pierwszym zaostrzeniem (miesiące) , ',\n",
    "            'Przebieg choroby, Całkowita liczba zaostrzeń , ',\n",
    "            'Badania Laboratoryjne , ANCA IF typ świecenia, ',\n",
    "            'wiek zachorowania',\n",
    "            'opóźnienie rozpoznania',\n",
    "            'czas trwania choroby',\n",
    "            'Badania Laboratoryjne , Anti GBM    , ',\n",
    "            'Badania Laboratoryjne , Krioglobuliny, ']"
   ]
  },
  {
   "cell_type": "code",
   "execution_count": 5,
   "id": "5c0ccfb8-0018-4478-9456-e7d728027d94",
   "metadata": {},
   "outputs": [],
   "source": [
    "def get_target_colums():\n",
    "    return ['Leczenie, Pacjent dializowany  , Tak',\n",
    "            'Przebieg choroby, Zgon pacjenta, Tak']"
   ]
  },
  {
   "cell_type": "code",
   "execution_count": 6,
   "id": "98577246-f41f-49fa-bf55-b7e1e4454da9",
   "metadata": {},
   "outputs": [],
   "source": [
    "def prepare_data(df_):\n",
    "    \n",
    "    bin_df = df_.drop(get_list_of_continuous_column(), axis=1)\n",
    "    bin_df = bin_df.astype('int32')\n",
    "    \n",
    "    const_df = df_[get_list_of_continuous_column()]\n",
    "    \n",
    "    return bin_df, const_df"
   ]
  },
  {
   "cell_type": "code",
   "execution_count": 7,
   "id": "e9b12e57-27a3-4001-ac96-b23a56997423",
   "metadata": {},
   "outputs": [],
   "source": [
    "def prepare_data_to_unsupervised(df_):\n",
    "    \n",
    "    bin_df = df_.drop(get_list_of_continuous_column(), axis=1)\n",
    "    bin_df = bin_df.drop([mpa_ids.name, gpa_ids.name], axis=1)\n",
    "    bin_df = bin_df.astype('int32')\n",
    "\n",
    "    const_df = df[get_list_of_continuous_column()]\n",
    "\n",
    "    return bin_df, const_df"
   ]
  },
  {
   "cell_type": "code",
   "execution_count": 8,
   "id": "85991b64-f077-413c-ad3d-0b4e1e1f78ba",
   "metadata": {},
   "outputs": [],
   "source": [
    "def prepare_target(df_):\n",
    "\n",
    "    target = df_[get_target_colums()]\n",
    "    df_.drop(get_target_colums(), axis=1, inplace=True)\n",
    "    \n",
    "    deaths = target[target.columns[1]].replace(1,1)\n",
    "    dialysis = target[target.columns[0]].replace(1,2)\n",
    "\n",
    "    y = deaths + dialysis\n",
    "    y = y.replace(3,1)\n",
    "    \n",
    "    return y"
   ]
  },
  {
   "cell_type": "code",
   "execution_count": 9,
   "id": "a49dfd61-4a25-4f77-9319-5186c67f4eec",
   "metadata": {},
   "outputs": [],
   "source": [
    "def get_y_x(data):\n",
    "    \n",
    "    data_ = data.copy()\n",
    "    bin_df, const_df = prepare_data(data_)\n",
    "    \n",
    "    mca_df = mca.MCA(bin_df)\n",
    "    mca_df = mca_df.fs_r(0.99)\n",
    "    \n",
    "    const_df = data_[get_list_of_continuous_column()]\n",
    "    scaler = preprocessing.MinMaxScaler(feature_range=(-1,1) )\n",
    "    scaler.fit(const_df)\n",
    "    const_df=scaler.transform(const_df)\n",
    "    \n",
    "    all_df = np.column_stack((mca_df,const_df))\n",
    "    all_df = pd.DataFrame(all_df)\n",
    "    \n",
    "    x = all_df.copy()\n",
    "    del all_df\n",
    "    y = prepare_target(data_)\n",
    "    \n",
    "    return y, x"
   ]
  },
  {
   "cell_type": "code",
   "execution_count": 10,
   "id": "ce2bfbdb-7371-494e-8fdd-03266ae2c499",
   "metadata": {},
   "outputs": [],
   "source": [
    "def get_y_x_to_unsupervised(data):\n",
    "    \n",
    "    data_ = data.copy()\n",
    "    bin_df, const_df = prepare_data_to_unsupervised(data_)\n",
    "    \n",
    "    mca_df = mca.MCA(bin_df)\n",
    "    mca_df = mca_df.fs_r(0.99)\n",
    "    \n",
    "    const_df = data_[get_list_of_continuous_column()]\n",
    "    scaler = preprocessing.MinMaxScaler(feature_range=(-1,1) )\n",
    "    scaler.fit(const_df)\n",
    "    const_df=scaler.transform(const_df)\n",
    "    \n",
    "    all_df = np.column_stack((mca_df,const_df))\n",
    "    all_df = pd.DataFrame(all_df)\n",
    "    \n",
    "    x = all_df.copy()\n",
    "    del all_df\n",
    "    y = prepare_target(data_)\n",
    "    \n",
    "    return y, x"
   ]
  },
  {
   "cell_type": "code",
   "execution_count": 11,
   "id": "447ec77e-17c6-4f17-bbee-d6acebd63f89",
   "metadata": {},
   "outputs": [],
   "source": [
    "def get_mca_data(data):\n",
    "    data_ = data.copy()\n",
    "    bin_df, const_df = prepare_data(data_)\n",
    "    \n",
    "    mca_df = mca.MCA(bin_df)\n",
    "    mca_df = mca_df.fs_r(0.99)\n",
    "    return mca_df"
   ]
  },
  {
   "cell_type": "code",
   "execution_count": 12,
   "id": "c9e89e9f-9484-4abb-8cf4-ed9de5f20a3e",
   "metadata": {},
   "outputs": [],
   "source": [
    "def get_GPA_data(data):\n",
    "    dataGPA = data[data[\"Ogólne, Rozpoznanie kliniczne, Ziarniakowatość z zapaleniem naczyń (Wegenera)(GPA)\"] == 1]\n",
    "    return dataGPA"
   ]
  },
  {
   "cell_type": "code",
   "execution_count": 13,
   "id": "6c2b43ab-cf5e-4255-87ba-ef39aa6c7431",
   "metadata": {},
   "outputs": [],
   "source": [
    "def get_MPA_data(data):\n",
    "    dataMPA = data[data[\"Ogólne, Rozpoznanie kliniczne, Mikroskopowe zapalenie naczyń (MPA)\"] == 1]\n",
    "    return dataMPA"
   ]
  },
  {
   "cell_type": "code",
   "execution_count": 14,
   "id": "b271abfa-281c-4151-b8d1-98f9c3a3e705",
   "metadata": {},
   "outputs": [],
   "source": [
    "def get_pANCA_data(data):\n",
    "    pANCA_data = data[data[\"Badania Laboratoryjne , ANCA IF typ świecenia, P\"] == 1]\n",
    "    return pANCA_data"
   ]
  },
  {
   "cell_type": "code",
   "execution_count": 15,
   "id": "3e4b9b7f-e83a-456e-baab-2d2127a78c64",
   "metadata": {},
   "outputs": [],
   "source": [
    "def get_cANCA_data(data):\n",
    "    cANCA_data = data[data[\"Badania Laboratoryjne , ANCA IF typ świecenia, C\"] == 1]\n",
    "    return cANCA_data"
   ]
  },
  {
   "cell_type": "code",
   "execution_count": 16,
   "id": "e7a42aeb-8001-4078-8e0d-399630cd42c5",
   "metadata": {},
   "outputs": [],
   "source": [
    "def get_PR3_data(data):\n",
    "    PR3_data = data[data[data.columns[103]] == 1]\n",
    "    return PR3_data"
   ]
  },
  {
   "cell_type": "code",
   "execution_count": 17,
   "id": "98ec3cae-1457-4c0d-9283-d8cbf308f45c",
   "metadata": {},
   "outputs": [],
   "source": [
    "def get_MPO_data(data):\n",
    "    MPO_data = data[data[data.columns[108]] == 1]\n",
    "    return MPO_data"
   ]
  },
  {
   "cell_type": "code",
   "execution_count": 18,
   "id": "363ebfc9-e166-4235-8e03-91182262c607",
   "metadata": {},
   "outputs": [],
   "source": [
    "def get_pANCA_MPO_data(data):\n",
    "    pANCA_MPO_data = data[(data[\"Badania Laboratoryjne , ANCA IF typ świecenia, P\"] == 1) | ([data.columns[108] == 1])]\n",
    "    return pANCA_MPO_data"
   ]
  },
  {
   "cell_type": "code",
   "execution_count": 19,
   "id": "7dfb7bcb-a897-4f3c-a712-8a1eb3394a93",
   "metadata": {},
   "outputs": [],
   "source": [
    "def get_cANCA_PR3_data(data):\n",
    "    cANCA_PR3_data = data[(data[\"Badania Laboratoryjne , ANCA IF typ świecenia, C\"] == 1) | ([data.columns[103] == 1])]\n",
    "    return cANCA_PR3_data"
   ]
  }
 ],
 "metadata": {
  "kernelspec": {
   "display_name": "Python 3",
   "language": "python",
   "name": "python3"
  },
  "language_info": {
   "codemirror_mode": {
    "name": "ipython",
    "version": 3
   },
   "file_extension": ".py",
   "mimetype": "text/x-python",
   "name": "python",
   "nbconvert_exporter": "python",
   "pygments_lexer": "ipython3",
   "version": "3.7.9"
  }
 },
 "nbformat": 4,
 "nbformat_minor": 5
}
