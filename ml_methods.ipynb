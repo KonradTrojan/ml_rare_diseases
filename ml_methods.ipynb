{
 "cells": [
  {
   "cell_type": "code",
   "execution_count": 1,
   "id": "bb710189-b207-413a-a89e-2c994921ab0d",
   "metadata": {},
   "outputs": [],
   "source": [
    "class Result:\n",
    "    def __init__(self, name, score_train, score_test, test_size, y_pred, confusion_matrix, classification_report):\n",
    "        self.name = name\n",
    "        self.score_train = score_train\n",
    "        self.score_test =score_test\n",
    "        self.test_size = test_size\n",
    "        self.y_pred = y_pred\n",
    "        self.confusion_matrix = confusion_matrix\n",
    "        self.classification_report = classification_report"
   ]
  },
  {
   "cell_type": "code",
   "execution_count": 2,
   "id": "4c37be2c-7e26-4f7c-bd69-f21ab35acae5",
   "metadata": {},
   "outputs": [],
   "source": [
    "def log_reg(x_train, x_test, y_train, y_test, test_size, C):\n",
    "\n",
    "    logistic_regression = LogisticRegression(C=C, max_iter=1000)\n",
    "    logistic_regression.fit(x_train, y_train)\n",
    "    y_pred = logistic_regression.predict(x_test)\n",
    "    mae = mean_absolute_error(y_test, y_pred)\n",
    "    mse = mean_squared_error(y_test, y_pred)\n",
    "    score_train = logistic_regression.score(x_train, y_train)\n",
    "    score_test = logistic_regression.score(x_test, y_test)\n",
    "    intercept = logistic_regression.intercept_\n",
    "    confusion_matrix_ = confusion_matrix(y_test,y_pred)\n",
    "    classification_report_ = classification_report(y_test,y_pred)\n",
    "    return Result_Log_Reg(\"Logistic Regresion\", score_train, score_test, test_size, y_pred, confusion_matrix_, classification_report_, intercept, C)"
   ]
  },
  {
   "cell_type": "code",
   "execution_count": 3,
   "id": "13209292-e583-4304-83a7-fcf90f4d8f9c",
   "metadata": {},
   "outputs": [],
   "source": [
    "class Result_Log_Reg(Result):\n",
    "    def __init__(self, name, score_train, score_test, test_size, y_pred, confusion_matrix, classification_report, intercept, C):\n",
    "        super().__init__(name, score_train, score_test, test_size, y_pred, confusion_matrix, classification_report)\n",
    "        self.intercept = intercept\n",
    "        self.C = C"
   ]
  },
  {
   "cell_type": "code",
   "execution_count": 4,
   "id": "c1a02683-61c2-4fd6-bbc6-fdf605dc1463",
   "metadata": {},
   "outputs": [],
   "source": [
    "class Result_Rand_Tree(Result):\n",
    "    def __init__(self, name, score_train, score_test, test_size, y_pred, confusion_matrix, classification_report, intercept, C):\n",
    "        super().__init__(name, score_train, score_test, test_size, y_pred, confusion_matrix, classification_report)\n",
    "        self.intercept = intercept\n",
    "        self.C = C"
   ]
  },
  {
   "cell_type": "code",
   "execution_count": 5,
   "id": "343ff611-9530-4d7b-af02-1171cdab8e04",
   "metadata": {},
   "outputs": [],
   "source": [
    "class Result_Neural_Net(Result):\n",
    "    def __init__(self, name, score_train, score_test, test_size, y_pred, confusion_matrix, classification_report, intercept, C):\n",
    "        super().__init__(name, score_train, score_test, test_size, y_pred, confusion_matrix, classification_report)\n",
    "        self.intercept = intercept\n",
    "        self.C = C"
   ]
  },
  {
   "cell_type": "code",
   "execution_count": 6,
   "id": "8b260f2c-9d38-45e1-8691-42e3f53e04dd",
   "metadata": {},
   "outputs": [],
   "source": [
    "def reg_tree(y, x, test_size, random_state):\n",
    "    x_ = x.copy()\n",
    "    y_ = y.copy()\n",
    "\n",
    "    re  = DecisionTreeRegressor()\n",
    "    x_train, x_test, y_train, y_test = train_test_split(x_, y_, test_size=test_size)\n",
    "   \n",
    "    re.fit(x_train, y_train)\n",
    "    y_pred = re.predict(x_test)\n",
    "    mae = mean_absolute_error(y_test, y_pred)\n",
    "    mse = mean_squared_error(y_test, y_pred)\n",
    "    score_train = logistic_regression.score(x_train, y_train)\n",
    "    score_test = logistic_regression.score(x_test, y_test)\n",
    "    intercept = logistic_regression.intercept_\n",
    "    return Result(\"Logistic Regresion\", score_train, score_test, intercept, test_size, random_state,y_pred)"
   ]
  },
  {
   "cell_type": "code",
   "execution_count": 7,
   "id": "cddc7cec-137f-432f-b03b-77f694033ee3",
   "metadata": {},
   "outputs": [],
   "source": [
    "def neural_network(y, x):\n",
    "    x_ = x.copy()\n",
    "    y_ = y.copy()\n",
    "    x_train, x_test, y_train, y_test = train_test_split(x_, y_, test_size=0.2)\n",
    "    model  = MLPClassifier( random_state=0, hidden_layer_sizes=[58,30,10], max_iter=10000).fit(x_train, y_train)\n",
    "   \n",
    "    score_train = model.score(x_train, y_train)\n",
    "    score_test = model.score(x_test, y_test)\n",
    "    intercept = model.intercept_\n",
    "    \n",
    "    return Result(\"Logistic Regresion\", score_train, score_test, intercept, 0.2, 0)\n",
    "    "
   ]
  },
  {
   "cell_type": "code",
   "execution_count": 8,
   "id": "52b56d9f-4ed7-416a-82a3-32c87a35f21d",
   "metadata": {},
   "outputs": [],
   "source": [
    "def neural_network_const(x_train, x_test, y_train, y_test, l1, l2, random_state):\n",
    "    \n",
    "    model  = MLPClassifier( random_state=random_state, hidden_layer_sizes=[l1, l2], max_iter=10000).fit(x_train, y_train)\n",
    "       \n",
    "    score_train = model.score(x_train, y_train)\n",
    "    score_test = model.score(x_test, y_test)\n",
    "    y_pred = model.predict(x_test)\n",
    "    del model\n",
    "    confusion_matrix_ = confusion_matrix(y_test,y_pred)\n",
    "    classification_report_ = classification_report(y_test,y_pred)\n",
    "    return Result(\"Neural Network\", score_train, score_test, 0.2, y_pred, confusion_matrix_, classification_report_)\n",
    "    "
   ]
  }
 ],
 "metadata": {
  "kernelspec": {
   "display_name": "Python 3",
   "language": "python",
   "name": "python3"
  },
  "language_info": {
   "codemirror_mode": {
    "name": "ipython",
    "version": 3
   },
   "file_extension": ".py",
   "mimetype": "text/x-python",
   "name": "python",
   "nbconvert_exporter": "python",
   "pygments_lexer": "ipython3",
   "version": "3.7.9"
  }
 },
 "nbformat": 4,
 "nbformat_minor": 5
}
