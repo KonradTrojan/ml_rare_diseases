{
 "cells": [
  {
   "cell_type": "code",
   "execution_count": 2,
   "id": "bb710189-b207-413a-a89e-2c994921ab0d",
   "metadata": {},
   "outputs": [],
   "source": [
    "from sklearn import preprocessing\n",
    "from sklearn.linear_model import LinearRegression\n",
    "from sklearn.linear_model import LogisticRegression\n",
    "from sklearn.svm import LinearSVC\n",
    "from sklearn.svm import SVC\n",
    "from sklearn.metrics import mean_squared_error\n",
    "from sklearn.metrics import mean_absolute_error\n",
    "from sklearn.model_selection import train_test_split\n",
    "from sklearn.metrics import mean_absolute_percentage_error\n",
    "from sklearn.tree import DecisionTreeRegressor\n",
    "from sklearn.tree import DecisionTreeClassifier\n",
    "from sklearn.ensemble import RandomForestClassifier\n",
    "from sklearn.neural_network import MLPClassifier\n",
    "from sklearn.neural_network import MLPRegressor\n",
    "from sklearn.metrics import classification_report, confusion_matrix\n",
    "from sklearn.naive_bayes import BernoulliNB\n",
    "from sklearn.model_selection import cross_val_score\n",
    "from sklearn.model_selection import ShuffleSplit\n",
    "from sklearn.model_selection import GridSearchCV"
   ]
  },
  {
   "cell_type": "code",
   "execution_count": 3,
   "id": "c60673e9-9baa-4201-bc5d-739ff038079d",
   "metadata": {},
   "outputs": [],
   "source": [
    "%run data.ipynb"
   ]
  },
  {
   "cell_type": "code",
   "execution_count": 4,
   "id": "f6574e25-bd2a-4716-b41b-5aea9a26aed6",
   "metadata": {},
   "outputs": [],
   "source": [
    "%run processing_methods.ipynb"
   ]
  },
  {
   "cell_type": "code",
   "execution_count": 5,
   "id": "101e14a6-9484-4c33-acdc-73aeaa0389a4",
   "metadata": {},
   "outputs": [],
   "source": [
    "%run ml_methods.ipynb"
   ]
  },
  {
   "cell_type": "code",
   "execution_count": 6,
   "id": "0af32791-662e-4450-b0fb-e2ee995a3bca",
   "metadata": {},
   "outputs": [],
   "source": [
    "x_ = x_all.copy()\n",
    "y_ = y_all.copy()"
   ]
  },
  {
   "cell_type": "code",
   "execution_count": 33,
   "id": "a07e09d9-2287-4d65-90d3-864c63b71d4c",
   "metadata": {},
   "outputs": [],
   "source": [
    "x_trainval, x_test, y_trainval, y_test = train_test_split(x_,y_)\n",
    "x_train, x_val, y_train, y_val = train_test_split(x_trainval,y_trainval)"
   ]
  },
  {
   "cell_type": "code",
   "execution_count": 7,
   "id": "a23da496-aa95-4bed-b043-9083458f5404",
   "metadata": {},
   "outputs": [],
   "source": [
    "data_sets = []\n",
    "best_scores = []\n",
    "test_scores = []\n",
    "results = []\n",
    "models = []\n",
    "for i in range(20):\n",
    "    \n",
    "    x_trainval, x_test, y_trainval, y_test = train_test_split(x_,y_)\n",
    "    x_train, x_val, y_train, y_val = train_test_split(x_trainval,y_trainval)\n",
    "    data_sets.append([x_trainval, x_test, y_trainval, y_test, x_train, x_val, y_train, y_val])\n",
    "    \n",
    "    best_score = 0\n",
    "    for C in [0.01, 0.1, 1, 10,50, 100, 200, 500, 1000]:\n",
    "        \n",
    "        model = LinearSVC(C=C, max_iter=10000000,dual = True).fit(x_train, y_train)\n",
    "        score = model.score(x_val, y_val)\n",
    "        if score > best_score:\n",
    "            best_score = score\n",
    "            best_parameters = {'C': C}\n",
    "\n",
    "    model  = LinearSVC(C=best_parameters['C'], max_iter=10000000).fit(x_trainval, y_trainval)\n",
    "    test_score = model.score(x_test, y_test)\n",
    "    results.append(best_parameters)\n",
    "    test_scores.append(test_score)\n",
    "    best_scores.append(best_score)\n",
    "    models.append(model)"
   ]
  },
  {
   "cell_type": "code",
   "execution_count": 8,
   "id": "4fcc3542-8d3f-4ba9-94f1-f8742e9522f9",
   "metadata": {},
   "outputs": [
    {
     "name": "stdout",
     "output_type": "stream",
     "text": [
      "0: best_parametrs: {'C': 10}, test_score: 0.8771929824561403, best_score: 0.9224806201550387, \n",
      "1: best_parametrs: {'C': 50}, test_score: 0.8596491228070176, best_score: 0.9302325581395349, \n",
      "2: best_parametrs: {'C': 1000}, test_score: 0.9122807017543859, best_score: 0.8914728682170543, \n",
      "3: best_parametrs: {'C': 50}, test_score: 0.9005847953216374, best_score: 0.9069767441860465, \n",
      "4: best_parametrs: {'C': 50}, test_score: 0.8947368421052632, best_score: 0.9069767441860465, \n",
      "5: best_parametrs: {'C': 100}, test_score: 0.9473684210526315, best_score: 0.9302325581395349, \n",
      "6: best_parametrs: {'C': 10}, test_score: 0.8713450292397661, best_score: 0.9224806201550387, \n",
      "7: best_parametrs: {'C': 1000}, test_score: 0.935672514619883, best_score: 0.9302325581395349, \n",
      "8: best_parametrs: {'C': 1000}, test_score: 0.9415204678362573, best_score: 0.9147286821705426, \n",
      "9: best_parametrs: {'C': 1000}, test_score: 0.8947368421052632, best_score: 0.9147286821705426, \n",
      "10: best_parametrs: {'C': 50}, test_score: 0.9122807017543859, best_score: 0.9302325581395349, \n",
      "11: best_parametrs: {'C': 200}, test_score: 0.9590643274853801, best_score: 0.9302325581395349, \n",
      "12: best_parametrs: {'C': 100}, test_score: 0.9122807017543859, best_score: 0.8837209302325582, \n",
      "13: best_parametrs: {'C': 500}, test_score: 0.9122807017543859, best_score: 0.8837209302325582, \n",
      "14: best_parametrs: {'C': 10}, test_score: 0.9181286549707602, best_score: 0.8992248062015504, \n",
      "15: best_parametrs: {'C': 50}, test_score: 0.9122807017543859, best_score: 0.8837209302325582, \n",
      "16: best_parametrs: {'C': 100}, test_score: 0.935672514619883, best_score: 0.8604651162790697, \n",
      "17: best_parametrs: {'C': 1000}, test_score: 0.9415204678362573, best_score: 0.9069767441860465, \n",
      "18: best_parametrs: {'C': 10}, test_score: 0.9005847953216374, best_score: 0.9147286821705426, \n",
      "19: best_parametrs: {'C': 500}, test_score: 0.9005847953216374, best_score: 0.9302325581395349, \n"
     ]
    }
   ],
   "source": [
    "for i in range(20):\n",
    "    print(\"{}: \".format(i)+\"best_parametrs: {}, \".format(results[i])+\"test_score: {}, \".format(test_scores[i])+\"best_score: {}, \".format(best_scores[i]))"
   ]
  },
  {
   "cell_type": "code",
   "execution_count": 9,
   "id": "1dcf6de7-0a71-4f25-ad84-0495cb57fa99",
   "metadata": {},
   "outputs": [],
   "source": [
    "c_col = []\n",
    "for i in range(20):\n",
    "    c_col.append(results[i]['C'])\n",
    "c_col = pd.Series(np.array(c_col))\n",
    "test_col = pd.Series(test_scores)\n",
    "best_col = pd.Series(best_scores)\n",
    "res = pd.concat([c_col,best_col,test_col],axis=1)\n",
    "res.to_excel('results/svc_general.xlsx')"
   ]
  },
  {
   "cell_type": "code",
   "execution_count": 10,
   "id": "76d0f4d6-a814-41a7-94e4-a90d5b244a95",
   "metadata": {},
   "outputs": [
    {
     "name": "stdout",
     "output_type": "stream",
     "text": [
      "Mean: 0.9119883040935672,\n"
     ]
    }
   ],
   "source": [
    "mean = test_col.mean()\n",
    "print(\"Mean: {},\".format(mean))"
   ]
  },
  {
   "cell_type": "code",
   "execution_count": 11,
   "id": "59550ef8-cdd1-422c-8d8b-e9a35e363dae",
   "metadata": {},
   "outputs": [
    {
     "data": {
      "text/plain": [
       "50"
      ]
     },
     "execution_count": 11,
     "metadata": {},
     "output_type": "execute_result"
    }
   ],
   "source": [
    "mode = c_col.mode()\n",
    "mode[0]"
   ]
  },
  {
   "cell_type": "code",
   "execution_count": 12,
   "id": "1a4137e3-f941-4fa2-8d15-83a6aaa04b5e",
   "metadata": {},
   "outputs": [
    {
     "data": {
      "text/html": [
       "<div>\n",
       "<style scoped>\n",
       "    .dataframe tbody tr th:only-of-type {\n",
       "        vertical-align: middle;\n",
       "    }\n",
       "\n",
       "    .dataframe tbody tr th {\n",
       "        vertical-align: top;\n",
       "    }\n",
       "\n",
       "    .dataframe thead th {\n",
       "        text-align: right;\n",
       "    }\n",
       "</style>\n",
       "<table border=\"1\" class=\"dataframe\">\n",
       "  <thead>\n",
       "    <tr style=\"text-align: right;\">\n",
       "      <th></th>\n",
       "      <th>0.0</th>\n",
       "      <th>1.0</th>\n",
       "      <th>2.0</th>\n",
       "      <th>accuracy</th>\n",
       "      <th>macro avg</th>\n",
       "      <th>weighted avg</th>\n",
       "    </tr>\n",
       "  </thead>\n",
       "  <tbody>\n",
       "    <tr>\n",
       "      <th>precision</th>\n",
       "      <td>0.970588</td>\n",
       "      <td>0.842105</td>\n",
       "      <td>1.000000</td>\n",
       "      <td>0.959064</td>\n",
       "      <td>0.937564</td>\n",
       "      <td>0.961599</td>\n",
       "    </tr>\n",
       "    <tr>\n",
       "      <th>recall</th>\n",
       "      <td>1.000000</td>\n",
       "      <td>0.941176</td>\n",
       "      <td>0.727273</td>\n",
       "      <td>0.959064</td>\n",
       "      <td>0.889483</td>\n",
       "      <td>0.959064</td>\n",
       "    </tr>\n",
       "    <tr>\n",
       "      <th>f1-score</th>\n",
       "      <td>0.985075</td>\n",
       "      <td>0.888889</td>\n",
       "      <td>0.842105</td>\n",
       "      <td>0.959064</td>\n",
       "      <td>0.905356</td>\n",
       "      <td>0.957119</td>\n",
       "    </tr>\n",
       "    <tr>\n",
       "      <th>support</th>\n",
       "      <td>132.000000</td>\n",
       "      <td>17.000000</td>\n",
       "      <td>22.000000</td>\n",
       "      <td>0.959064</td>\n",
       "      <td>171.000000</td>\n",
       "      <td>171.000000</td>\n",
       "    </tr>\n",
       "  </tbody>\n",
       "</table>\n",
       "</div>"
      ],
      "text/plain": [
       "                  0.0        1.0        2.0  accuracy   macro avg  \\\n",
       "precision    0.970588   0.842105   1.000000  0.959064    0.937564   \n",
       "recall       1.000000   0.941176   0.727273  0.959064    0.889483   \n",
       "f1-score     0.985075   0.888889   0.842105  0.959064    0.905356   \n",
       "support    132.000000  17.000000  22.000000  0.959064  171.000000   \n",
       "\n",
       "           weighted avg  \n",
       "precision      0.961599  \n",
       "recall         0.959064  \n",
       "f1-score       0.957119  \n",
       "support      171.000000  "
      ]
     },
     "execution_count": 12,
     "metadata": {},
     "output_type": "execute_result"
    }
   ],
   "source": [
    "# best test score\n",
    "iter = test_col.idxmax()\n",
    "y_pred = models[iter].predict(data_sets[iter][1])\n",
    "y_test = data_sets[iter][3]\n",
    "classification_report_ = classification_report(y_test,y_pred,output_dict=True)\n",
    "classification_report_ = pd.DataFrame(classification_report_)\n",
    "classification_report_"
   ]
  },
  {
   "cell_type": "code",
   "execution_count": 13,
   "id": "034183ff-8405-482a-8aeb-ffb91409a09d",
   "metadata": {},
   "outputs": [
    {
     "data": {
      "text/html": [
       "<div>\n",
       "<style scoped>\n",
       "    .dataframe tbody tr th:only-of-type {\n",
       "        vertical-align: middle;\n",
       "    }\n",
       "\n",
       "    .dataframe tbody tr th {\n",
       "        vertical-align: top;\n",
       "    }\n",
       "\n",
       "    .dataframe thead th {\n",
       "        text-align: right;\n",
       "    }\n",
       "</style>\n",
       "<table border=\"1\" class=\"dataframe\">\n",
       "  <thead>\n",
       "    <tr style=\"text-align: right;\">\n",
       "      <th></th>\n",
       "      <th>0</th>\n",
       "      <th>1</th>\n",
       "      <th>2</th>\n",
       "    </tr>\n",
       "  </thead>\n",
       "  <tbody>\n",
       "    <tr>\n",
       "      <th>0</th>\n",
       "      <td>132</td>\n",
       "      <td>0</td>\n",
       "      <td>0</td>\n",
       "    </tr>\n",
       "    <tr>\n",
       "      <th>1</th>\n",
       "      <td>1</td>\n",
       "      <td>16</td>\n",
       "      <td>0</td>\n",
       "    </tr>\n",
       "    <tr>\n",
       "      <th>2</th>\n",
       "      <td>3</td>\n",
       "      <td>3</td>\n",
       "      <td>16</td>\n",
       "    </tr>\n",
       "  </tbody>\n",
       "</table>\n",
       "</div>"
      ],
      "text/plain": [
       "     0   1   2\n",
       "0  132   0   0\n",
       "1    1  16   0\n",
       "2    3   3  16"
      ]
     },
     "execution_count": 13,
     "metadata": {},
     "output_type": "execute_result"
    }
   ],
   "source": [
    "confusion_matrix_ = confusion_matrix(y_test,y_pred)\n",
    "confusion_matrix_ = pd.DataFrame(confusion_matrix_)\n",
    "confusion_matrix_"
   ]
  },
  {
   "cell_type": "code",
   "execution_count": 14,
   "id": "e5ac9f22-7692-4758-b8e5-72432464c3ca",
   "metadata": {},
   "outputs": [
    {
     "data": {
      "text/html": [
       "<div>\n",
       "<style scoped>\n",
       "    .dataframe tbody tr th:only-of-type {\n",
       "        vertical-align: middle;\n",
       "    }\n",
       "\n",
       "    .dataframe tbody tr th {\n",
       "        vertical-align: top;\n",
       "    }\n",
       "\n",
       "    .dataframe thead th {\n",
       "        text-align: right;\n",
       "    }\n",
       "</style>\n",
       "<table border=\"1\" class=\"dataframe\">\n",
       "  <thead>\n",
       "    <tr style=\"text-align: right;\">\n",
       "      <th></th>\n",
       "      <th>0.0</th>\n",
       "      <th>1.0</th>\n",
       "      <th>2.0</th>\n",
       "      <th>accuracy</th>\n",
       "      <th>macro avg</th>\n",
       "      <th>weighted avg</th>\n",
       "    </tr>\n",
       "  </thead>\n",
       "  <tbody>\n",
       "    <tr>\n",
       "      <th>precision</th>\n",
       "      <td>0.900000</td>\n",
       "      <td>0.750000</td>\n",
       "      <td>0.705882</td>\n",
       "      <td>0.859649</td>\n",
       "      <td>0.785294</td>\n",
       "      <td>0.853612</td>\n",
       "    </tr>\n",
       "    <tr>\n",
       "      <th>recall</th>\n",
       "      <td>0.943548</td>\n",
       "      <td>0.666667</td>\n",
       "      <td>0.600000</td>\n",
       "      <td>0.859649</td>\n",
       "      <td>0.736738</td>\n",
       "      <td>0.859649</td>\n",
       "    </tr>\n",
       "    <tr>\n",
       "      <th>f1-score</th>\n",
       "      <td>0.921260</td>\n",
       "      <td>0.705882</td>\n",
       "      <td>0.648649</td>\n",
       "      <td>0.859649</td>\n",
       "      <td>0.758597</td>\n",
       "      <td>0.855369</td>\n",
       "    </tr>\n",
       "    <tr>\n",
       "      <th>support</th>\n",
       "      <td>124.000000</td>\n",
       "      <td>27.000000</td>\n",
       "      <td>20.000000</td>\n",
       "      <td>0.859649</td>\n",
       "      <td>171.000000</td>\n",
       "      <td>171.000000</td>\n",
       "    </tr>\n",
       "  </tbody>\n",
       "</table>\n",
       "</div>"
      ],
      "text/plain": [
       "                  0.0        1.0        2.0  accuracy   macro avg  \\\n",
       "precision    0.900000   0.750000   0.705882  0.859649    0.785294   \n",
       "recall       0.943548   0.666667   0.600000  0.859649    0.736738   \n",
       "f1-score     0.921260   0.705882   0.648649  0.859649    0.758597   \n",
       "support    124.000000  27.000000  20.000000  0.859649  171.000000   \n",
       "\n",
       "           weighted avg  \n",
       "precision      0.853612  \n",
       "recall         0.859649  \n",
       "f1-score       0.855369  \n",
       "support      171.000000  "
      ]
     },
     "execution_count": 14,
     "metadata": {},
     "output_type": "execute_result"
    }
   ],
   "source": [
    "# worst test score\n",
    "iter = test_col.idxmin()\n",
    "y_pred = models[iter].predict(data_sets[iter][1])\n",
    "y_test = data_sets[iter][3]\n",
    "classification_report_ = classification_report(y_test,y_pred,output_dict=True)\n",
    "classification_report_ = pd.DataFrame(classification_report_)\n",
    "classification_report_"
   ]
  },
  {
   "cell_type": "code",
   "execution_count": 15,
   "id": "97f4e812-5392-4b78-b544-3701874828fe",
   "metadata": {},
   "outputs": [
    {
     "data": {
      "text/html": [
       "<div>\n",
       "<style scoped>\n",
       "    .dataframe tbody tr th:only-of-type {\n",
       "        vertical-align: middle;\n",
       "    }\n",
       "\n",
       "    .dataframe tbody tr th {\n",
       "        vertical-align: top;\n",
       "    }\n",
       "\n",
       "    .dataframe thead th {\n",
       "        text-align: right;\n",
       "    }\n",
       "</style>\n",
       "<table border=\"1\" class=\"dataframe\">\n",
       "  <thead>\n",
       "    <tr style=\"text-align: right;\">\n",
       "      <th></th>\n",
       "      <th>0</th>\n",
       "      <th>1</th>\n",
       "      <th>2</th>\n",
       "    </tr>\n",
       "  </thead>\n",
       "  <tbody>\n",
       "    <tr>\n",
       "      <th>0</th>\n",
       "      <td>117</td>\n",
       "      <td>3</td>\n",
       "      <td>4</td>\n",
       "    </tr>\n",
       "    <tr>\n",
       "      <th>1</th>\n",
       "      <td>8</td>\n",
       "      <td>18</td>\n",
       "      <td>1</td>\n",
       "    </tr>\n",
       "    <tr>\n",
       "      <th>2</th>\n",
       "      <td>5</td>\n",
       "      <td>3</td>\n",
       "      <td>12</td>\n",
       "    </tr>\n",
       "  </tbody>\n",
       "</table>\n",
       "</div>"
      ],
      "text/plain": [
       "     0   1   2\n",
       "0  117   3   4\n",
       "1    8  18   1\n",
       "2    5   3  12"
      ]
     },
     "execution_count": 15,
     "metadata": {},
     "output_type": "execute_result"
    }
   ],
   "source": [
    "confusion_matrix_ = confusion_matrix(y_test,y_pred)\n",
    "confusion_matrix_ = pd.DataFrame(confusion_matrix_)\n",
    "confusion_matrix_"
   ]
  },
  {
   "cell_type": "code",
   "execution_count": 8,
   "id": "00d3ad40-7801-4c2f-9393-cfe18d9c5ffc",
   "metadata": {},
   "outputs": [],
   "source": [
    "scores_C = []\n",
    "results_C = []\n",
    "y_pred = 0\n",
    "best_score = 0\n",
    "for i in range(20):\n",
    "    \n",
    "    x_trainval, x_test, y_trainval, y_test = train_test_split(x_,y_)\n",
    "    x_train, x_val, y_train, y_val = train_test_split(x_trainval,y_trainval)\n",
    "      \n",
    "    model  = LogisticRegression(C=50, max_iter=100000).fit(x_trainval, y_trainval)\n",
    "    score = model.score(x_test, y_test)\n",
    "    if score > best_score:\n",
    "        y_pred = model.predict(x_test)\n",
    "        confusion_matrix_ = confusion_matrix(y_test,y_pred)\n",
    "        classification_report_ = classification_report(y_test,y_pred,output_dict=True)\n",
    "    scores_C.append(score)"
   ]
  },
  {
   "cell_type": "code",
   "execution_count": 11,
   "id": "0b517200-39a2-4eda-8f68-12a4fec34155",
   "metadata": {},
   "outputs": [
    {
     "name": "stdout",
     "output_type": "stream",
     "text": [
      "0: C: 50, test_score: 0.8888888888888888, \n",
      "1: C: 50, test_score: 0.8596491228070176, \n",
      "2: C: 50, test_score: 0.8713450292397661, \n",
      "3: C: 50, test_score: 0.9239766081871345, \n",
      "4: C: 50, test_score: 0.8947368421052632, \n",
      "5: C: 50, test_score: 0.8830409356725146, \n",
      "6: C: 50, test_score: 0.8830409356725146, \n",
      "7: C: 50, test_score: 0.8947368421052632, \n",
      "8: C: 50, test_score: 0.8771929824561403, \n",
      "9: C: 50, test_score: 0.8947368421052632, \n",
      "10: C: 50, test_score: 0.8713450292397661, \n",
      "11: C: 50, test_score: 0.9064327485380117, \n",
      "12: C: 50, test_score: 0.9122807017543859, \n",
      "13: C: 50, test_score: 0.8830409356725146, \n",
      "14: C: 50, test_score: 0.9064327485380117, \n",
      "15: C: 50, test_score: 0.9122807017543859, \n",
      "16: C: 50, test_score: 0.8830409356725146, \n",
      "17: C: 50, test_score: 0.8771929824561403, \n",
      "18: C: 50, test_score: 0.935672514619883, \n",
      "19: C: 50, test_score: 0.8947368421052632, \n"
     ]
    }
   ],
   "source": [
    "for i in range(20):\n",
    "    print(\"{}: \".format(i)+\"C: {}, \".format(50)+\"test_score: {}, \".format(scores_C[i]))"
   ]
  },
  {
   "cell_type": "code",
   "execution_count": 14,
   "id": "22037163-f3a1-426a-a092-68413f2214f4",
   "metadata": {},
   "outputs": [],
   "source": [
    "scores_C = pd.Series(scores_C)\n",
    "res_C = pd.concat([scores_C],axis=1)\n",
    "res_C.to_excel('results/svc_C.xlsx')"
   ]
  },
  {
   "cell_type": "code",
   "execution_count": 15,
   "id": "17dd5998-bd9e-474f-8818-f973847cd2b8",
   "metadata": {},
   "outputs": [
    {
     "data": {
      "text/plain": [
       "0.935672514619883"
      ]
     },
     "execution_count": 15,
     "metadata": {},
     "output_type": "execute_result"
    }
   ],
   "source": [
    "test_col = pd.Series(scores_C)\n",
    "test_col.max()"
   ]
  },
  {
   "cell_type": "code",
   "execution_count": 16,
   "id": "36cb3061-41a6-4faa-9065-1d6cf1013745",
   "metadata": {},
   "outputs": [
    {
     "data": {
      "text/plain": [
       "18"
      ]
     },
     "execution_count": 16,
     "metadata": {},
     "output_type": "execute_result"
    }
   ],
   "source": [
    "test_col.idxmax()"
   ]
  },
  {
   "cell_type": "code",
   "execution_count": 17,
   "id": "55692398-5e9b-4fc7-8e87-a1e0b8b85903",
   "metadata": {},
   "outputs": [
    {
     "data": {
      "text/html": [
       "<div>\n",
       "<style scoped>\n",
       "    .dataframe tbody tr th:only-of-type {\n",
       "        vertical-align: middle;\n",
       "    }\n",
       "\n",
       "    .dataframe tbody tr th {\n",
       "        vertical-align: top;\n",
       "    }\n",
       "\n",
       "    .dataframe thead th {\n",
       "        text-align: right;\n",
       "    }\n",
       "</style>\n",
       "<table border=\"1\" class=\"dataframe\">\n",
       "  <thead>\n",
       "    <tr style=\"text-align: right;\">\n",
       "      <th></th>\n",
       "      <th>0</th>\n",
       "      <th>1</th>\n",
       "      <th>2</th>\n",
       "    </tr>\n",
       "  </thead>\n",
       "  <tbody>\n",
       "    <tr>\n",
       "      <th>0</th>\n",
       "      <td>120</td>\n",
       "      <td>1</td>\n",
       "      <td>3</td>\n",
       "    </tr>\n",
       "    <tr>\n",
       "      <th>1</th>\n",
       "      <td>4</td>\n",
       "      <td>22</td>\n",
       "      <td>2</td>\n",
       "    </tr>\n",
       "    <tr>\n",
       "      <th>2</th>\n",
       "      <td>6</td>\n",
       "      <td>2</td>\n",
       "      <td>11</td>\n",
       "    </tr>\n",
       "  </tbody>\n",
       "</table>\n",
       "</div>"
      ],
      "text/plain": [
       "     0   1   2\n",
       "0  120   1   3\n",
       "1    4  22   2\n",
       "2    6   2  11"
      ]
     },
     "execution_count": 17,
     "metadata": {},
     "output_type": "execute_result"
    }
   ],
   "source": [
    "confusion_matrix_ = pd.DataFrame(confusion_matrix_)\n",
    "confusion_matrix_"
   ]
  },
  {
   "cell_type": "code",
   "execution_count": 18,
   "id": "6194a792-c6e0-4f4e-b57e-814c31b0c116",
   "metadata": {},
   "outputs": [
    {
     "data": {
      "text/html": [
       "<div>\n",
       "<style scoped>\n",
       "    .dataframe tbody tr th:only-of-type {\n",
       "        vertical-align: middle;\n",
       "    }\n",
       "\n",
       "    .dataframe tbody tr th {\n",
       "        vertical-align: top;\n",
       "    }\n",
       "\n",
       "    .dataframe thead th {\n",
       "        text-align: right;\n",
       "    }\n",
       "</style>\n",
       "<table border=\"1\" class=\"dataframe\">\n",
       "  <thead>\n",
       "    <tr style=\"text-align: right;\">\n",
       "      <th></th>\n",
       "      <th>0.0</th>\n",
       "      <th>1.0</th>\n",
       "      <th>2.0</th>\n",
       "      <th>accuracy</th>\n",
       "      <th>macro avg</th>\n",
       "      <th>weighted avg</th>\n",
       "    </tr>\n",
       "  </thead>\n",
       "  <tbody>\n",
       "    <tr>\n",
       "      <th>precision</th>\n",
       "      <td>0.923077</td>\n",
       "      <td>0.880000</td>\n",
       "      <td>0.687500</td>\n",
       "      <td>0.894737</td>\n",
       "      <td>0.830192</td>\n",
       "      <td>0.889848</td>\n",
       "    </tr>\n",
       "    <tr>\n",
       "      <th>recall</th>\n",
       "      <td>0.967742</td>\n",
       "      <td>0.785714</td>\n",
       "      <td>0.578947</td>\n",
       "      <td>0.894737</td>\n",
       "      <td>0.777468</td>\n",
       "      <td>0.894737</td>\n",
       "    </tr>\n",
       "    <tr>\n",
       "      <th>f1-score</th>\n",
       "      <td>0.944882</td>\n",
       "      <td>0.830189</td>\n",
       "      <td>0.628571</td>\n",
       "      <td>0.894737</td>\n",
       "      <td>0.801214</td>\n",
       "      <td>0.890956</td>\n",
       "    </tr>\n",
       "    <tr>\n",
       "      <th>support</th>\n",
       "      <td>124.000000</td>\n",
       "      <td>28.000000</td>\n",
       "      <td>19.000000</td>\n",
       "      <td>0.894737</td>\n",
       "      <td>171.000000</td>\n",
       "      <td>171.000000</td>\n",
       "    </tr>\n",
       "  </tbody>\n",
       "</table>\n",
       "</div>"
      ],
      "text/plain": [
       "                  0.0        1.0        2.0  accuracy   macro avg  \\\n",
       "precision    0.923077   0.880000   0.687500  0.894737    0.830192   \n",
       "recall       0.967742   0.785714   0.578947  0.894737    0.777468   \n",
       "f1-score     0.944882   0.830189   0.628571  0.894737    0.801214   \n",
       "support    124.000000  28.000000  19.000000  0.894737  171.000000   \n",
       "\n",
       "           weighted avg  \n",
       "precision      0.889848  \n",
       "recall         0.894737  \n",
       "f1-score       0.890956  \n",
       "support      171.000000  "
      ]
     },
     "execution_count": 18,
     "metadata": {},
     "output_type": "execute_result"
    }
   ],
   "source": [
    "classification_report_df = pd.DataFrame(classification_report_)\n",
    "classification_report_df"
   ]
  },
  {
   "cell_type": "code",
   "execution_count": 19,
   "id": "5cf99aa3-6d44-469b-a82d-1421b9b4e3d3",
   "metadata": {},
   "outputs": [],
   "source": [
    "scores_C = []\n",
    "results_C = []\n",
    "y_pred = 0\n",
    "best_score = 0\n",
    "for i in range(20):\n",
    "    \n",
    "    x_trainval, x_test, y_trainval, y_test = train_test_split(x_,y_)\n",
    "    x_train, x_val, y_train, y_val = train_test_split(x_trainval,y_trainval)\n",
    "      \n",
    "    model  = LogisticRegression(C=1000, max_iter=100000).fit(x_trainval, y_trainval)\n",
    "    score = model.score(x_test, y_test)\n",
    "    if score > best_score:\n",
    "        y_pred = model.predict(x_test)\n",
    "        confusion_matrix_ = confusion_matrix(y_test,y_pred)\n",
    "        classification_report_ = classification_report(y_test,y_pred,output_dict=True)\n",
    "    scores_C.append(score)"
   ]
  },
  {
   "cell_type": "code",
   "execution_count": 20,
   "id": "0fcd8697-ed40-4302-ae09-f920d5512542",
   "metadata": {},
   "outputs": [
    {
     "name": "stdout",
     "output_type": "stream",
     "text": [
      "0: C: 1000, test_score: 0.8713450292397661, \n",
      "1: C: 1000, test_score: 0.9005847953216374, \n",
      "2: C: 1000, test_score: 0.935672514619883, \n",
      "3: C: 1000, test_score: 0.9122807017543859, \n",
      "4: C: 1000, test_score: 0.9064327485380117, \n",
      "5: C: 1000, test_score: 0.9005847953216374, \n",
      "6: C: 1000, test_score: 0.8888888888888888, \n",
      "7: C: 1000, test_score: 0.8888888888888888, \n",
      "8: C: 1000, test_score: 0.9239766081871345, \n",
      "9: C: 1000, test_score: 0.847953216374269, \n",
      "10: C: 1000, test_score: 0.9064327485380117, \n",
      "11: C: 1000, test_score: 0.8596491228070176, \n",
      "12: C: 1000, test_score: 0.9298245614035088, \n",
      "13: C: 1000, test_score: 0.8888888888888888, \n",
      "14: C: 1000, test_score: 0.9122807017543859, \n",
      "15: C: 1000, test_score: 0.9005847953216374, \n",
      "16: C: 1000, test_score: 0.9122807017543859, \n",
      "17: C: 1000, test_score: 0.935672514619883, \n",
      "18: C: 1000, test_score: 0.8771929824561403, \n",
      "19: C: 1000, test_score: 0.9239766081871345, \n"
     ]
    }
   ],
   "source": [
    "for i in range(20):\n",
    "    print(\"{}: \".format(i)+\"C: {}, \".format(1000)+\"test_score: {}, \".format(scores_C[i]))"
   ]
  },
  {
   "cell_type": "code",
   "execution_count": 21,
   "id": "f9853181-c466-434d-9ad7-a9543fdad1b7",
   "metadata": {},
   "outputs": [],
   "source": [
    "scores_C = pd.Series(scores_C)\n",
    "res_C = pd.concat([scores_C],axis=1)\n",
    "res_C.to_excel('results/svc_C2.xlsx')"
   ]
  },
  {
   "cell_type": "code",
   "execution_count": 22,
   "id": "9906038f-8b0a-4966-8d1e-b25e02a2cfbb",
   "metadata": {},
   "outputs": [
    {
     "data": {
      "text/html": [
       "<div>\n",
       "<style scoped>\n",
       "    .dataframe tbody tr th:only-of-type {\n",
       "        vertical-align: middle;\n",
       "    }\n",
       "\n",
       "    .dataframe tbody tr th {\n",
       "        vertical-align: top;\n",
       "    }\n",
       "\n",
       "    .dataframe thead th {\n",
       "        text-align: right;\n",
       "    }\n",
       "</style>\n",
       "<table border=\"1\" class=\"dataframe\">\n",
       "  <thead>\n",
       "    <tr style=\"text-align: right;\">\n",
       "      <th></th>\n",
       "      <th>0</th>\n",
       "      <th>1</th>\n",
       "      <th>2</th>\n",
       "    </tr>\n",
       "  </thead>\n",
       "  <tbody>\n",
       "    <tr>\n",
       "      <th>0</th>\n",
       "      <td>125</td>\n",
       "      <td>0</td>\n",
       "      <td>4</td>\n",
       "    </tr>\n",
       "    <tr>\n",
       "      <th>1</th>\n",
       "      <td>3</td>\n",
       "      <td>19</td>\n",
       "      <td>1</td>\n",
       "    </tr>\n",
       "    <tr>\n",
       "      <th>2</th>\n",
       "      <td>4</td>\n",
       "      <td>1</td>\n",
       "      <td>14</td>\n",
       "    </tr>\n",
       "  </tbody>\n",
       "</table>\n",
       "</div>"
      ],
      "text/plain": [
       "     0   1   2\n",
       "0  125   0   4\n",
       "1    3  19   1\n",
       "2    4   1  14"
      ]
     },
     "execution_count": 22,
     "metadata": {},
     "output_type": "execute_result"
    }
   ],
   "source": [
    "confusion_matrix_ = pd.DataFrame(confusion_matrix_)\n",
    "confusion_matrix_"
   ]
  },
  {
   "cell_type": "code",
   "execution_count": 23,
   "id": "856f8f2b-f20f-4677-aabb-9ee13d34d1bb",
   "metadata": {},
   "outputs": [
    {
     "data": {
      "text/html": [
       "<div>\n",
       "<style scoped>\n",
       "    .dataframe tbody tr th:only-of-type {\n",
       "        vertical-align: middle;\n",
       "    }\n",
       "\n",
       "    .dataframe tbody tr th {\n",
       "        vertical-align: top;\n",
       "    }\n",
       "\n",
       "    .dataframe thead th {\n",
       "        text-align: right;\n",
       "    }\n",
       "</style>\n",
       "<table border=\"1\" class=\"dataframe\">\n",
       "  <thead>\n",
       "    <tr style=\"text-align: right;\">\n",
       "      <th></th>\n",
       "      <th>0.0</th>\n",
       "      <th>1.0</th>\n",
       "      <th>2.0</th>\n",
       "      <th>accuracy</th>\n",
       "      <th>macro avg</th>\n",
       "      <th>weighted avg</th>\n",
       "    </tr>\n",
       "  </thead>\n",
       "  <tbody>\n",
       "    <tr>\n",
       "      <th>precision</th>\n",
       "      <td>0.946970</td>\n",
       "      <td>0.950000</td>\n",
       "      <td>0.736842</td>\n",
       "      <td>0.923977</td>\n",
       "      <td>0.877937</td>\n",
       "      <td>0.924030</td>\n",
       "    </tr>\n",
       "    <tr>\n",
       "      <th>recall</th>\n",
       "      <td>0.968992</td>\n",
       "      <td>0.826087</td>\n",
       "      <td>0.736842</td>\n",
       "      <td>0.923977</td>\n",
       "      <td>0.843974</td>\n",
       "      <td>0.923977</td>\n",
       "    </tr>\n",
       "    <tr>\n",
       "      <th>f1-score</th>\n",
       "      <td>0.957854</td>\n",
       "      <td>0.883721</td>\n",
       "      <td>0.736842</td>\n",
       "      <td>0.923977</td>\n",
       "      <td>0.859472</td>\n",
       "      <td>0.923326</td>\n",
       "    </tr>\n",
       "    <tr>\n",
       "      <th>support</th>\n",
       "      <td>129.000000</td>\n",
       "      <td>23.000000</td>\n",
       "      <td>19.000000</td>\n",
       "      <td>0.923977</td>\n",
       "      <td>171.000000</td>\n",
       "      <td>171.000000</td>\n",
       "    </tr>\n",
       "  </tbody>\n",
       "</table>\n",
       "</div>"
      ],
      "text/plain": [
       "                  0.0        1.0        2.0  accuracy   macro avg  \\\n",
       "precision    0.946970   0.950000   0.736842  0.923977    0.877937   \n",
       "recall       0.968992   0.826087   0.736842  0.923977    0.843974   \n",
       "f1-score     0.957854   0.883721   0.736842  0.923977    0.859472   \n",
       "support    129.000000  23.000000  19.000000  0.923977  171.000000   \n",
       "\n",
       "           weighted avg  \n",
       "precision      0.924030  \n",
       "recall         0.923977  \n",
       "f1-score       0.923326  \n",
       "support      171.000000  "
      ]
     },
     "execution_count": 23,
     "metadata": {},
     "output_type": "execute_result"
    }
   ],
   "source": [
    "classification_report_df = pd.DataFrame(classification_report_)\n",
    "classification_report_df"
   ]
  },
  {
   "cell_type": "code",
   "execution_count": null,
   "id": "f160d2bf-97c5-4878-990e-8aff77ab915d",
   "metadata": {},
   "outputs": [],
   "source": []
  }
 ],
 "metadata": {
  "kernelspec": {
   "display_name": "Python 3",
   "language": "python",
   "name": "python3"
  },
  "language_info": {
   "codemirror_mode": {
    "name": "ipython",
    "version": 3
   },
   "file_extension": ".py",
   "mimetype": "text/x-python",
   "name": "python",
   "nbconvert_exporter": "python",
   "pygments_lexer": "ipython3",
   "version": "3.7.9"
  }
 },
 "nbformat": 4,
 "nbformat_minor": 5
}
