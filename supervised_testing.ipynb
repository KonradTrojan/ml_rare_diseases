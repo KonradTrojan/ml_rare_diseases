{
 "cells": [
  {
   "cell_type": "code",
   "execution_count": 11,
   "id": "bb710189-b207-413a-a89e-2c994921ab0d",
   "metadata": {},
   "outputs": [],
   "source": [
    "from sklearn import preprocessing\n",
    "from sklearn.linear_model import LinearRegression\n",
    "from sklearn.linear_model import LogisticRegression\n",
    "from sklearn.svm import LinearSVC\n",
    "from sklearn.svm import SVC\n",
    "from sklearn.metrics import mean_squared_error\n",
    "from sklearn.metrics import mean_absolute_error\n",
    "from sklearn.model_selection import train_test_split\n",
    "from sklearn.metrics import mean_absolute_percentage_error\n",
    "from sklearn.tree import DecisionTreeRegressor\n",
    "from sklearn.tree import DecisionTreeClassifier\n",
    "from sklearn.ensemble import GradientBoostingClassifier\n",
    "from sklearn.ensemble import GradientBoostingRegressor \n",
    "from sklearn.ensemble import RandomForestClassifier\n",
    "from sklearn.neural_network import MLPClassifier\n",
    "from sklearn.metrics import classification_report, confusion_matrix\n",
    "from sklearn.naive_bayes import BernoulliNB\n",
    "from sklearn.model_selection import cross_val_score\n",
    "from sklearn.model_selection import ShuffleSplit\n",
    "from sklearn.neural_network import MLPRegressor"
   ]
  },
  {
   "cell_type": "code",
   "execution_count": 3,
   "id": "c60673e9-9baa-4201-bc5d-739ff038079d",
   "metadata": {},
   "outputs": [],
   "source": [
    "%run processing.ipynb"
   ]
  },
  {
   "cell_type": "code",
   "execution_count": 4,
   "id": "f6574e25-bd2a-4716-b41b-5aea9a26aed6",
   "metadata": {},
   "outputs": [],
   "source": [
    "%run processing_methods.ipynb"
   ]
  },
  {
   "cell_type": "code",
   "execution_count": 5,
   "id": "101e14a6-9484-4c33-acdc-73aeaa0389a4",
   "metadata": {},
   "outputs": [],
   "source": [
    "%run ml_methods.ipynb"
   ]
  },
  {
   "cell_type": "code",
   "execution_count": 6,
   "id": "31e08787-7715-44cd-bb54-b05548f99940",
   "metadata": {},
   "outputs": [],
   "source": [
    "def cross_valid(alhorithm, x_=x_all.copy(), y_=y_all.copy().ravel()):\n",
    "    scores = cross_val_score(alhorithm, x_, y_, cv = 5)\n",
    "\n",
    "    print(\"Cross validation: {}\".format(scores))\n",
    "    print(\"Mean: {:.2f}\".format(scores.mean()))\n",
    "\n",
    "    shuffle_split = ShuffleSplit(train_size=0.75, test_size=0.25, n_splits=5)\n",
    "    scores = cross_val_score(alhorithm, x_, y_, cv = shuffle_split)\n",
    "\n",
    "    print(\"Random cross validation: {}\".format(scores))\n",
    "    print(\"Mean: {:.2f}\".format(scores.mean()))"
   ]
  },
  {
   "cell_type": "code",
   "execution_count": 7,
   "id": "cac0cf73-bca5-4688-8a41-6b5ddd443ad2",
   "metadata": {},
   "outputs": [
    {
     "name": "stdout",
     "output_type": "stream",
     "text": [
      "Cross validation: [0.7810219  0.80291971 0.76642336 0.7810219  0.80882353]\n",
      "Mean: 0.79\n",
      "Random cross validation: [0.78362573 0.78362573 0.77192982 0.8128655  0.80116959]\n",
      "Mean: 0.79\n"
     ]
    }
   ],
   "source": [
    "cross_valid(LogisticRegression(max_iter=1000))"
   ]
  },
  {
   "cell_type": "code",
   "execution_count": 8,
   "id": "5a3e89a6-9306-41f3-b93e-56ca55b0d41d",
   "metadata": {},
   "outputs": [
    {
     "name": "stdout",
     "output_type": "stream",
     "text": [
      "Cross validation: [0.86861314 0.86131387 0.89051095 0.86861314 0.88235294]\n",
      "Mean: 0.87\n",
      "Random cross validation: [0.85380117 0.85964912 0.87134503 0.85964912 0.84210526]\n",
      "Mean: 0.86\n"
     ]
    }
   ],
   "source": [
    "x, const_df = prepare_data(df)\n",
    "y = prepare_target(x)\n",
    "cross_valid(BernoulliNB())\n",
    "# cross_valid(BernoulliNB(), x, y)"
   ]
  },
  {
   "cell_type": "code",
   "execution_count": 8,
   "id": "508446df-5368-4097-b99c-7996e5eeb67b",
   "metadata": {},
   "outputs": [
    {
     "name": "stdout",
     "output_type": "stream",
     "text": [
      "Cross validation: [0.83941606 0.82481752 0.83211679 0.83211679 0.83823529]\n",
      "Mean: 0.83\n",
      "Random cross validation: [0.9005848  0.87134503 0.81871345 0.78362573 0.85380117]\n",
      "Mean: 0.85\n"
     ]
    }
   ],
   "source": [
    "cross_valid(LinearSVC())"
   ]
  },
  {
   "cell_type": "code",
   "execution_count": 9,
   "id": "86aae5dc-6fcf-44ee-9201-9ad312653d53",
   "metadata": {},
   "outputs": [
    {
     "name": "stdout",
     "output_type": "stream",
     "text": [
      "Cross validation: [0.76642336 0.76642336 0.76642336 0.75912409 0.76470588]\n",
      "Mean: 0.76\n",
      "Random cross validation: [0.73684211 0.80116959 0.73684211 0.76023392 0.73099415]\n",
      "Mean: 0.75\n"
     ]
    }
   ],
   "source": [
    "cross_valid(SVC())"
   ]
  },
  {
   "cell_type": "code",
   "execution_count": 10,
   "id": "b564a958-f56c-450a-8040-45a4e2b1556b",
   "metadata": {},
   "outputs": [
    {
     "name": "stdout",
     "output_type": "stream",
     "text": [
      "Cross validation: [0.75182482 0.75182482 0.72992701 0.73722628 0.76470588]\n",
      "Mean: 0.75\n",
      "Random cross validation: [0.67836257 0.68421053 0.73684211 0.78362573 0.74269006]\n",
      "Mean: 0.73\n"
     ]
    }
   ],
   "source": [
    "cross_valid(DecisionTreeClassifier())"
   ]
  },
  {
   "cell_type": "code",
   "execution_count": 11,
   "id": "a8c8fb8e-850d-4c0f-aacb-502f44b14c7d",
   "metadata": {},
   "outputs": [
    {
     "name": "stdout",
     "output_type": "stream",
     "text": [
      "Cross validation: [0.81021898 0.81751825 0.81751825 0.82481752 0.82352941]\n",
      "Mean: 0.82\n",
      "Random cross validation: [0.78947368 0.8245614  0.77777778 0.85964912 0.80116959]\n",
      "Mean: 0.81\n"
     ]
    }
   ],
   "source": [
    "cross_valid(RandomForestClassifier())"
   ]
  },
  {
   "cell_type": "code",
   "execution_count": 12,
   "id": "c05bb4dd-8c70-4348-92a9-efd6aa00350e",
   "metadata": {},
   "outputs": [
    {
     "name": "stdout",
     "output_type": "stream",
     "text": [
      "Cross validation: [0.86131387 0.81751825 0.86131387 0.83941606 0.85294118]\n",
      "Mean: 0.85\n",
      "Random cross validation: [0.91812865 0.87719298 0.88888889 0.81871345 0.8245614 ]\n",
      "Mean: 0.87\n"
     ]
    }
   ],
   "source": [
    "cross_valid(GradientBoostingClassifier())"
   ]
  },
  {
   "cell_type": "code",
   "execution_count": 13,
   "id": "c16ed946-e683-4f31-80a9-4cef3c2a3a40",
   "metadata": {},
   "outputs": [
    {
     "name": "stdout",
     "output_type": "stream",
     "text": [
      "Cross validation: [ 0.51638201  0.20239464 -0.56616573  0.27860543  0.39303465]\n",
      "Mean: 0.16\n",
      "Random cross validation: [ 0.14166774  0.35943058  0.26412609 -0.19209792 -0.01473004]\n",
      "Mean: 0.11\n"
     ]
    }
   ],
   "source": [
    "cross_valid(MLPRegressor(max_iter=2000))"
   ]
  },
  {
   "cell_type": "code",
   "execution_count": 14,
   "id": "0af32791-662e-4450-b0fb-e2ee995a3bca",
   "metadata": {},
   "outputs": [
    {
     "name": "stdout",
     "output_type": "stream",
     "text": [
      "Cross validation: [0.89781022 0.88321168 0.89781022 0.89781022 0.93382353]\n",
      "Mean: 0.90\n",
      "Random cross validation: [0.91812865 0.9122807  0.88304094 0.91812865 0.91812865]\n",
      "Mean: 0.91\n"
     ]
    }
   ],
   "source": [
    "cross_valid(MLPClassifier(max_iter=2000))"
   ]
  },
  {
   "cell_type": "code",
   "execution_count": 10,
   "id": "24ec21c2-514d-4313-af51-d5da0d7a9de8",
   "metadata": {},
   "outputs": [
    {
     "name": "stdout",
     "output_type": "stream",
     "text": [
      "Cross validation: [0.86131387 0.82481752 0.86131387 0.83941606 0.85294118]\n",
      "Mean: 0.85\n",
      "Random cross validation: [0.8245614  0.85380117 0.81871345 0.85380117 0.81871345]\n",
      "Mean: 0.83\n"
     ]
    }
   ],
   "source": [
    "cross_valid(GradientBoostingClassifier())"
   ]
  },
  {
   "cell_type": "code",
   "execution_count": 12,
   "id": "0ef3f86c-707b-426a-8b14-3b8ac0d60f23",
   "metadata": {},
   "outputs": [
    {
     "name": "stdout",
     "output_type": "stream",
     "text": [
      "Cross validation: [0.37621142 0.30319697 0.28690862 0.24870188 0.24421691]\n",
      "Mean: 0.29\n",
      "Random cross validation: [0.41964317 0.24644288 0.40509265 0.35970416 0.36315684]\n",
      "Mean: 0.36\n"
     ]
    }
   ],
   "source": [
    "cross_valid(GradientBoostingRegressor())"
   ]
  },
  {
   "cell_type": "code",
   "execution_count": null,
   "id": "cf01009a-71e5-4848-a460-a8fbcd732f61",
   "metadata": {},
   "outputs": [],
   "source": []
  },
  {
   "cell_type": "code",
   "execution_count": null,
   "id": "ba6168ca-df5f-4174-9fec-26f7a617e297",
   "metadata": {},
   "outputs": [],
   "source": []
  }
 ],
 "metadata": {
  "kernelspec": {
   "display_name": "Python 3",
   "language": "python",
   "name": "python3"
  },
  "language_info": {
   "codemirror_mode": {
    "name": "ipython",
    "version": 3
   },
   "file_extension": ".py",
   "mimetype": "text/x-python",
   "name": "python",
   "nbconvert_exporter": "python",
   "pygments_lexer": "ipython3",
   "version": "3.7.9"
  }
 },
 "nbformat": 4,
 "nbformat_minor": 5
}
