{
 "cells": [
  {
   "cell_type": "code",
   "execution_count": 1,
   "id": "bb710189-b207-413a-a89e-2c994921ab0d",
   "metadata": {},
   "outputs": [],
   "source": [
    "from sklearn import preprocessing\n",
    "from sklearn.linear_model import LinearRegression\n",
    "from sklearn.linear_model import LogisticRegression\n",
    "from sklearn.svm import LinearSVC\n",
    "from sklearn.svm import SVC\n",
    "from sklearn.metrics import mean_squared_error\n",
    "from sklearn.metrics import mean_absolute_error\n",
    "from sklearn.model_selection import train_test_split\n",
    "from sklearn.metrics import mean_absolute_percentage_error\n",
    "from sklearn.tree import DecisionTreeRegressor\n",
    "from sklearn.tree import DecisionTreeClassifier\n",
    "from sklearn.ensemble import GradientBoostingClassifier\n",
    "from sklearn.ensemble import RandomForestClassifier\n",
    "from sklearn.neural_network import MLPClassifier\n",
    "from sklearn.metrics import classification_report, confusion_matrix\n",
    "from sklearn.naive_bayes import BernoulliNB\n",
    "from sklearn.model_selection import cross_val_score\n",
    "from sklearn.model_selection import ShuffleSplit\n",
    "from sklearn.model_selection import GridSearchCV"
   ]
  },
  {
   "cell_type": "code",
   "execution_count": 2,
   "id": "8e50f916-f47c-4c2e-8d5e-365dcb58e800",
   "metadata": {},
   "outputs": [],
   "source": [
    "%run data.ipynb"
   ]
  },
  {
   "cell_type": "code",
   "execution_count": 3,
   "id": "925c0b11-e64c-4224-b9ae-8e1626e6a229",
   "metadata": {},
   "outputs": [],
   "source": [
    "%run processing_methods.ipynb"
   ]
  },
  {
   "cell_type": "code",
   "execution_count": 4,
   "id": "5464d149-5d75-4972-9d91-40957ef994ba",
   "metadata": {},
   "outputs": [],
   "source": [
    "%run ml_methods.ipynb"
   ]
  },
  {
   "cell_type": "code",
   "execution_count": 5,
   "id": "64078ff1-57e4-4e68-8adf-3049a20a070f",
   "metadata": {},
   "outputs": [],
   "source": [
    "x_ = x_all.copy()\n",
    "y_ = y_all.copy()\n",
    "x_trainval, x_test, y_trainval, y_test = train_test_split(x_,y_)\n",
    "x_train, x_val, y_train, y_val = train_test_split(x_trainval,y_trainval)"
   ]
  },
  {
   "cell_type": "code",
   "execution_count": 6,
   "id": "08853c78-2d89-4a53-9c79-a74361607195",
   "metadata": {},
   "outputs": [],
   "source": [
    "n_estimators = [int(x) for x in np.linspace(start = 200, stop = 2000, num = 10)]\n",
    "\n",
    "max_features = ['auto', 'sqrt']\n",
    "\n",
    "\n",
    "\n"
   ]
  },
  {
   "cell_type": "code",
   "execution_count": 7,
   "id": "70f532e0-cc85-445b-bbbe-1173037710b2",
   "metadata": {},
   "outputs": [],
   "source": [
    "n_estimators = [1, 10, 100, 200, 300, 400, 500, 1000, 10000]"
   ]
  },
  {
   "cell_type": "code",
   "execution_count": 8,
   "id": "070aa801-3871-44cb-bf50-5f844823ce4d",
   "metadata": {},
   "outputs": [],
   "source": [
    "data_sets = []\n",
    "best_scores = []\n",
    "test_scores = []\n",
    "results = []\n",
    "models = []\n",
    "for i in range(25):\n",
    "    x_trainval, x_test, y_trainval, y_test = train_test_split(x_,y_)\n",
    "    x_train, x_val, y_train, y_val = train_test_split(x_trainval,y_trainval)\n",
    "    data_sets.append([x_trainval, x_test, y_trainval, y_test, x_train, x_val, y_train, y_val])\n",
    "    \n",
    "    best_score = 0\n",
    "    for estimator in n_estimators:\n",
    "\n",
    "        model  = RandomForestClassifier(n_estimators=estimator).fit(x_train, y_train)\n",
    "        score = model.score(x_val, y_val)\n",
    "        if score > best_score:\n",
    "            best_score = score\n",
    "\n",
    "            best_estimator = estimator\n",
    "\n",
    "            best_parameters = {'estimator': estimator}\n",
    "\n",
    "    model  = RandomForestClassifier(n_estimators=best_estimator).fit(x_trainval, y_trainval)\n",
    "    test_score = model.score(x_test, y_test)\n",
    "    test_score = model.score(x_test, y_test)\n",
    "    results.append(best_parameters)\n",
    "    test_scores.append(test_score)\n",
    "    best_scores.append(best_score)\n",
    "    models.append(model)"
   ]
  },
  {
   "cell_type": "code",
   "execution_count": 9,
   "id": "45f37e68-e983-4d13-8e9d-9a2a37ca6bca",
   "metadata": {},
   "outputs": [
    {
     "name": "stdout",
     "output_type": "stream",
     "text": [
      "0: best_parametrs: {'estimator': 100}, test_score: 0.7953216374269005, best_score: 0.8527131782945736, \n",
      "1: best_parametrs: {'estimator': 400}, test_score: 0.8304093567251462, best_score: 0.7286821705426356, \n",
      "2: best_parametrs: {'estimator': 10}, test_score: 0.7426900584795322, best_score: 0.8604651162790697, \n",
      "3: best_parametrs: {'estimator': 10}, test_score: 0.7017543859649122, best_score: 0.8372093023255814, \n",
      "4: best_parametrs: {'estimator': 400}, test_score: 0.8245614035087719, best_score: 0.8527131782945736, \n",
      "5: best_parametrs: {'estimator': 10}, test_score: 0.8070175438596491, best_score: 0.8604651162790697, \n",
      "6: best_parametrs: {'estimator': 100}, test_score: 0.7894736842105263, best_score: 0.8372093023255814, \n",
      "7: best_parametrs: {'estimator': 200}, test_score: 0.7719298245614035, best_score: 0.8062015503875969, \n",
      "8: best_parametrs: {'estimator': 100}, test_score: 0.8011695906432749, best_score: 0.7906976744186046, \n",
      "9: best_parametrs: {'estimator': 300}, test_score: 0.8128654970760234, best_score: 0.875968992248062, \n",
      "10: best_parametrs: {'estimator': 10000}, test_score: 0.8187134502923976, best_score: 0.8682170542635659, \n",
      "11: best_parametrs: {'estimator': 400}, test_score: 0.7660818713450293, best_score: 0.7984496124031008, \n",
      "12: best_parametrs: {'estimator': 300}, test_score: 0.8362573099415205, best_score: 0.8604651162790697, \n",
      "13: best_parametrs: {'estimator': 100}, test_score: 0.8187134502923976, best_score: 0.8527131782945736, \n",
      "14: best_parametrs: {'estimator': 100}, test_score: 0.7368421052631579, best_score: 0.875968992248062, \n",
      "15: best_parametrs: {'estimator': 10}, test_score: 0.8128654970760234, best_score: 0.8527131782945736, \n",
      "16: best_parametrs: {'estimator': 10}, test_score: 0.8011695906432749, best_score: 0.8294573643410853, \n",
      "17: best_parametrs: {'estimator': 200}, test_score: 0.8011695906432749, best_score: 0.7829457364341085, \n",
      "18: best_parametrs: {'estimator': 1000}, test_score: 0.8245614035087719, best_score: 0.8604651162790697, \n",
      "19: best_parametrs: {'estimator': 200}, test_score: 0.7894736842105263, best_score: 0.8294573643410853, \n",
      "20: best_parametrs: {'estimator': 100}, test_score: 0.8070175438596491, best_score: 0.7829457364341085, \n",
      "21: best_parametrs: {'estimator': 200}, test_score: 0.7894736842105263, best_score: 0.7984496124031008, \n",
      "22: best_parametrs: {'estimator': 500}, test_score: 0.8128654970760234, best_score: 0.8217054263565892, \n",
      "23: best_parametrs: {'estimator': 100}, test_score: 0.8654970760233918, best_score: 0.8527131782945736, \n",
      "24: best_parametrs: {'estimator': 10}, test_score: 0.8538011695906432, best_score: 0.8294573643410853, \n"
     ]
    }
   ],
   "source": [
    "for i in range(25):\n",
    "    print(\"{}: \".format(i)+\"best_parametrs: {}, \".format(results[i])+\"test_score: {}, \".format(test_scores[i])+\"best_score: {}, \".format(best_scores[i]))"
   ]
  },
  {
   "cell_type": "code",
   "execution_count": 10,
   "id": "e6d40304-503c-4154-b1dd-9dc366e9442e",
   "metadata": {},
   "outputs": [],
   "source": [
    "c_col = []\n",
    "for i in range(25):\n",
    "    c_col.append(results[i]['estimator'])\n",
    "c_col = pd.Series(np.array(c_col))\n",
    "test_col = pd.Series(test_scores)\n",
    "best_col = pd.Series(best_scores)\n",
    "res = pd.concat([c_col,best_col,test_col],axis=1)\n",
    "res.to_excel('results/random_forrest.xlsx')"
   ]
  },
  {
   "cell_type": "code",
   "execution_count": 11,
   "id": "fb26195d-eac9-4040-98be-4da74a8fc982",
   "metadata": {},
   "outputs": [
    {
     "data": {
      "text/html": [
       "<div>\n",
       "<style scoped>\n",
       "    .dataframe tbody tr th:only-of-type {\n",
       "        vertical-align: middle;\n",
       "    }\n",
       "\n",
       "    .dataframe tbody tr th {\n",
       "        vertical-align: top;\n",
       "    }\n",
       "\n",
       "    .dataframe thead th {\n",
       "        text-align: right;\n",
       "    }\n",
       "</style>\n",
       "<table border=\"1\" class=\"dataframe\">\n",
       "  <thead>\n",
       "    <tr style=\"text-align: right;\">\n",
       "      <th></th>\n",
       "      <th>0.0</th>\n",
       "      <th>1.0</th>\n",
       "      <th>2.0</th>\n",
       "      <th>accuracy</th>\n",
       "      <th>macro avg</th>\n",
       "      <th>weighted avg</th>\n",
       "    </tr>\n",
       "  </thead>\n",
       "  <tbody>\n",
       "    <tr>\n",
       "      <th>precision</th>\n",
       "      <td>0.860606</td>\n",
       "      <td>1.000000</td>\n",
       "      <td>1.000000</td>\n",
       "      <td>0.865497</td>\n",
       "      <td>0.953535</td>\n",
       "      <td>0.884246</td>\n",
       "    </tr>\n",
       "    <tr>\n",
       "      <th>recall</th>\n",
       "      <td>1.000000</td>\n",
       "      <td>0.294118</td>\n",
       "      <td>0.083333</td>\n",
       "      <td>0.865497</td>\n",
       "      <td>0.459150</td>\n",
       "      <td>0.865497</td>\n",
       "    </tr>\n",
       "    <tr>\n",
       "      <th>f1-score</th>\n",
       "      <td>0.925081</td>\n",
       "      <td>0.454545</td>\n",
       "      <td>0.153846</td>\n",
       "      <td>0.865497</td>\n",
       "      <td>0.511158</td>\n",
       "      <td>0.824181</td>\n",
       "    </tr>\n",
       "    <tr>\n",
       "      <th>support</th>\n",
       "      <td>142.000000</td>\n",
       "      <td>17.000000</td>\n",
       "      <td>12.000000</td>\n",
       "      <td>0.865497</td>\n",
       "      <td>171.000000</td>\n",
       "      <td>171.000000</td>\n",
       "    </tr>\n",
       "  </tbody>\n",
       "</table>\n",
       "</div>"
      ],
      "text/plain": [
       "                  0.0        1.0        2.0  accuracy   macro avg  \\\n",
       "precision    0.860606   1.000000   1.000000  0.865497    0.953535   \n",
       "recall       1.000000   0.294118   0.083333  0.865497    0.459150   \n",
       "f1-score     0.925081   0.454545   0.153846  0.865497    0.511158   \n",
       "support    142.000000  17.000000  12.000000  0.865497  171.000000   \n",
       "\n",
       "           weighted avg  \n",
       "precision      0.884246  \n",
       "recall         0.865497  \n",
       "f1-score       0.824181  \n",
       "support      171.000000  "
      ]
     },
     "execution_count": 11,
     "metadata": {},
     "output_type": "execute_result"
    }
   ],
   "source": [
    "# best test score\n",
    "iter = test_col.idxmax()\n",
    "y_pred = models[iter].predict(data_sets[iter][1])\n",
    "y_test = data_sets[iter][3]\n",
    "classification_report_ = classification_report(y_test,y_pred,output_dict=True)\n",
    "classification_report_ = pd.DataFrame(classification_report_)\n",
    "classification_report_"
   ]
  },
  {
   "cell_type": "code",
   "execution_count": 12,
   "id": "47a8f21f-d867-49a8-8656-cd1f0ae05972",
   "metadata": {},
   "outputs": [
    {
     "data": {
      "text/html": [
       "<div>\n",
       "<style scoped>\n",
       "    .dataframe tbody tr th:only-of-type {\n",
       "        vertical-align: middle;\n",
       "    }\n",
       "\n",
       "    .dataframe tbody tr th {\n",
       "        vertical-align: top;\n",
       "    }\n",
       "\n",
       "    .dataframe thead th {\n",
       "        text-align: right;\n",
       "    }\n",
       "</style>\n",
       "<table border=\"1\" class=\"dataframe\">\n",
       "  <thead>\n",
       "    <tr style=\"text-align: right;\">\n",
       "      <th></th>\n",
       "      <th>0</th>\n",
       "      <th>1</th>\n",
       "      <th>2</th>\n",
       "    </tr>\n",
       "  </thead>\n",
       "  <tbody>\n",
       "    <tr>\n",
       "      <th>0</th>\n",
       "      <td>142</td>\n",
       "      <td>0</td>\n",
       "      <td>0</td>\n",
       "    </tr>\n",
       "    <tr>\n",
       "      <th>1</th>\n",
       "      <td>12</td>\n",
       "      <td>5</td>\n",
       "      <td>0</td>\n",
       "    </tr>\n",
       "    <tr>\n",
       "      <th>2</th>\n",
       "      <td>11</td>\n",
       "      <td>0</td>\n",
       "      <td>1</td>\n",
       "    </tr>\n",
       "  </tbody>\n",
       "</table>\n",
       "</div>"
      ],
      "text/plain": [
       "     0  1  2\n",
       "0  142  0  0\n",
       "1   12  5  0\n",
       "2   11  0  1"
      ]
     },
     "execution_count": 12,
     "metadata": {},
     "output_type": "execute_result"
    }
   ],
   "source": [
    "confusion_matrix_ = confusion_matrix(y_test,y_pred)\n",
    "confusion_matrix_ = pd.DataFrame(confusion_matrix_)\n",
    "confusion_matrix_"
   ]
  },
  {
   "cell_type": "code",
   "execution_count": 13,
   "id": "54938a45-b5a1-4814-aa9b-26460ceceb6e",
   "metadata": {},
   "outputs": [
    {
     "data": {
      "text/html": [
       "<div>\n",
       "<style scoped>\n",
       "    .dataframe tbody tr th:only-of-type {\n",
       "        vertical-align: middle;\n",
       "    }\n",
       "\n",
       "    .dataframe tbody tr th {\n",
       "        vertical-align: top;\n",
       "    }\n",
       "\n",
       "    .dataframe thead th {\n",
       "        text-align: right;\n",
       "    }\n",
       "</style>\n",
       "<table border=\"1\" class=\"dataframe\">\n",
       "  <thead>\n",
       "    <tr style=\"text-align: right;\">\n",
       "      <th></th>\n",
       "      <th>0.0</th>\n",
       "      <th>1.0</th>\n",
       "      <th>2.0</th>\n",
       "      <th>accuracy</th>\n",
       "      <th>macro avg</th>\n",
       "      <th>weighted avg</th>\n",
       "    </tr>\n",
       "  </thead>\n",
       "  <tbody>\n",
       "    <tr>\n",
       "      <th>precision</th>\n",
       "      <td>0.700637</td>\n",
       "      <td>0.727273</td>\n",
       "      <td>0.666667</td>\n",
       "      <td>0.701754</td>\n",
       "      <td>0.698192</td>\n",
       "      <td>0.698684</td>\n",
       "    </tr>\n",
       "    <tr>\n",
       "      <th>recall</th>\n",
       "      <td>0.973451</td>\n",
       "      <td>0.296296</td>\n",
       "      <td>0.064516</td>\n",
       "      <td>0.701754</td>\n",
       "      <td>0.444755</td>\n",
       "      <td>0.701754</td>\n",
       "    </tr>\n",
       "    <tr>\n",
       "      <th>f1-score</th>\n",
       "      <td>0.814815</td>\n",
       "      <td>0.421053</td>\n",
       "      <td>0.117647</td>\n",
       "      <td>0.701754</td>\n",
       "      <td>0.451172</td>\n",
       "      <td>0.626255</td>\n",
       "    </tr>\n",
       "    <tr>\n",
       "      <th>support</th>\n",
       "      <td>113.000000</td>\n",
       "      <td>27.000000</td>\n",
       "      <td>31.000000</td>\n",
       "      <td>0.701754</td>\n",
       "      <td>171.000000</td>\n",
       "      <td>171.000000</td>\n",
       "    </tr>\n",
       "  </tbody>\n",
       "</table>\n",
       "</div>"
      ],
      "text/plain": [
       "                  0.0        1.0        2.0  accuracy   macro avg  \\\n",
       "precision    0.700637   0.727273   0.666667  0.701754    0.698192   \n",
       "recall       0.973451   0.296296   0.064516  0.701754    0.444755   \n",
       "f1-score     0.814815   0.421053   0.117647  0.701754    0.451172   \n",
       "support    113.000000  27.000000  31.000000  0.701754  171.000000   \n",
       "\n",
       "           weighted avg  \n",
       "precision      0.698684  \n",
       "recall         0.701754  \n",
       "f1-score       0.626255  \n",
       "support      171.000000  "
      ]
     },
     "execution_count": 13,
     "metadata": {},
     "output_type": "execute_result"
    }
   ],
   "source": [
    "# worst test score\n",
    "iter = test_col.idxmin()\n",
    "y_pred = models[iter].predict(data_sets[iter][1])\n",
    "y_test = data_sets[iter][3]\n",
    "classification_report_ = classification_report(y_test,y_pred,output_dict=True)\n",
    "classification_report_ = pd.DataFrame(classification_report_)\n",
    "classification_report_"
   ]
  },
  {
   "cell_type": "code",
   "execution_count": 27,
   "id": "937b8eee-8221-4f4f-9335-c857af56f314",
   "metadata": {},
   "outputs": [
    {
     "data": {
      "text/html": [
       "<div>\n",
       "<style scoped>\n",
       "    .dataframe tbody tr th:only-of-type {\n",
       "        vertical-align: middle;\n",
       "    }\n",
       "\n",
       "    .dataframe tbody tr th {\n",
       "        vertical-align: top;\n",
       "    }\n",
       "\n",
       "    .dataframe thead th {\n",
       "        text-align: right;\n",
       "    }\n",
       "</style>\n",
       "<table border=\"1\" class=\"dataframe\">\n",
       "  <thead>\n",
       "    <tr style=\"text-align: right;\">\n",
       "      <th></th>\n",
       "      <th>0</th>\n",
       "      <th>1</th>\n",
       "      <th>2</th>\n",
       "    </tr>\n",
       "  </thead>\n",
       "  <tbody>\n",
       "    <tr>\n",
       "      <th>0</th>\n",
       "      <td>121</td>\n",
       "      <td>0</td>\n",
       "      <td>0</td>\n",
       "    </tr>\n",
       "    <tr>\n",
       "      <th>1</th>\n",
       "      <td>20</td>\n",
       "      <td>9</td>\n",
       "      <td>0</td>\n",
       "    </tr>\n",
       "    <tr>\n",
       "      <th>2</th>\n",
       "      <td>19</td>\n",
       "      <td>0</td>\n",
       "      <td>2</td>\n",
       "    </tr>\n",
       "  </tbody>\n",
       "</table>\n",
       "</div>"
      ],
      "text/plain": [
       "     0  1  2\n",
       "0  121  0  0\n",
       "1   20  9  0\n",
       "2   19  0  2"
      ]
     },
     "execution_count": 27,
     "metadata": {},
     "output_type": "execute_result"
    }
   ],
   "source": [
    "confusion_matrix_ = confusion_matrix(y_test,y_pred)\n",
    "confusion_matrix_ = pd.DataFrame(confusion_matrix_)\n",
    "confusion_matrix_"
   ]
  },
  {
   "cell_type": "code",
   "execution_count": null,
   "id": "5c12b3c3-4abf-4f36-932c-b335c41259cb",
   "metadata": {},
   "outputs": [],
   "source": []
  },
  {
   "cell_type": "code",
   "execution_count": null,
   "id": "803db846-faf9-4910-ae11-7f7520f7a442",
   "metadata": {},
   "outputs": [],
   "source": []
  }
 ],
 "metadata": {
  "kernelspec": {
   "display_name": "Python 3",
   "language": "python",
   "name": "python3"
  },
  "language_info": {
   "codemirror_mode": {
    "name": "ipython",
    "version": 3
   },
   "file_extension": ".py",
   "mimetype": "text/x-python",
   "name": "python",
   "nbconvert_exporter": "python",
   "pygments_lexer": "ipython3",
   "version": "3.7.9"
  }
 },
 "nbformat": 4,
 "nbformat_minor": 5
}
