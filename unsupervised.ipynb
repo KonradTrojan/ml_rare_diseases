{
 "cells": [
  {
   "cell_type": "code",
   "execution_count": 1,
   "id": "419c9716-ba83-462d-a07c-051be9f30ff7",
   "metadata": {},
   "outputs": [],
   "source": [
    "from sklearn.cluster import KMeans\n",
    "from sklearn.cluster import AgglomerativeClustering\n",
    "from sklearn.cluster import DBSCAN\n",
    "from sklearn.metrics import adjusted_rand_score, normalized_mutual_info_score, accuracy_score\n",
    "from sklearn.neighbors import LocalOutlierFactor\n",
    "from sklearn.ensemble import IsolationForest\n",
    "import pandas as pd\n",
    "import mglearn"
   ]
  },
  {
   "cell_type": "code",
   "execution_count": 2,
   "id": "bb710189-b207-413a-a89e-2c994921ab0d",
   "metadata": {},
   "outputs": [],
   "source": [
    "%run data.ipynb"
   ]
  },
  {
   "cell_type": "code",
   "execution_count": 3,
   "id": "f5bd3e51-ef6d-425c-bd6c-38b5ee3e92cb",
   "metadata": {},
   "outputs": [],
   "source": [
    "k_means = KMeans(n_clusters=3)\n",
    "k = k_means.fit_predict(x_uns)"
   ]
  },
  {
   "cell_type": "code",
   "execution_count": 4,
   "id": "fd4eeba4-8826-4351-b2b4-8c8a3b12dc33",
   "metadata": {},
   "outputs": [],
   "source": [
    "k = pd.Series(k)"
   ]
  },
  {
   "cell_type": "code",
   "execution_count": 5,
   "id": "4c933a61-6867-41b4-9577-6bc209c177fb",
   "metadata": {},
   "outputs": [
    {
     "data": {
      "text/plain": [
       "0.1564327485380117"
      ]
     },
     "execution_count": 5,
     "metadata": {},
     "output_type": "execute_result"
    }
   ],
   "source": [
    "a_score =accuracy_score(y_all_uns, k)\n",
    "a_score"
   ]
  },
  {
   "cell_type": "code",
   "execution_count": 6,
   "id": "a2f2a0a3-8681-4396-9e03-bd650f64ce27",
   "metadata": {},
   "outputs": [
    {
     "data": {
      "text/plain": [
       "0.02043460002858461"
      ]
     },
     "execution_count": 6,
     "metadata": {},
     "output_type": "execute_result"
    }
   ],
   "source": [
    "n_score =normalized_mutual_info_score(y_all_uns, k)\n",
    "n_score"
   ]
  },
  {
   "cell_type": "code",
   "execution_count": 7,
   "id": "9ef228f7-0620-4558-838b-ac190b4333a0",
   "metadata": {},
   "outputs": [
    {
     "data": {
      "text/plain": [
       "0.03609120029390716"
      ]
     },
     "execution_count": 7,
     "metadata": {},
     "output_type": "execute_result"
    }
   ],
   "source": [
    "ad_score =adjusted_rand_score(y_all_uns, k)\n",
    "ad_score"
   ]
  },
  {
   "cell_type": "code",
   "execution_count": 8,
   "id": "1de31d30-71c8-483a-b8e7-ee73f7b2a092",
   "metadata": {},
   "outputs": [
    {
     "name": "stdout",
     "output_type": "stream",
     "text": [
      "predicted labels: 0: 86, 1: 374, 2: 224\n"
     ]
    }
   ],
   "source": [
    "print(\"predicted labels: 0: {}\".format(k.isin([0]).sum())+\", 1: {}\".format(k.isin([1]).sum())+\", 2: {}\".format(k.isin([2]).sum()))"
   ]
  },
  {
   "cell_type": "code",
   "execution_count": 11,
   "id": "16090fd2-5b29-4518-a96f-d041bf115f20",
   "metadata": {},
   "outputs": [
    {
     "name": "stdout",
     "output_type": "stream",
     "text": [
      "actuall labels: 0: 523, 1: 84, 2: 77\n"
     ]
    }
   ],
   "source": [
    "print(\"actuall labels: 0: {}\".format(y_all_uns.isin([0]).sum())+\", 1: {}\".format(y_all_uns.isin([1]).sum())+\", 2: {}\".format(y_all_uns.isin([2]).sum()))"
   ]
  },
  {
   "cell_type": "code",
   "execution_count": 12,
   "id": "16d79225-5aec-41f1-9ba3-e7185f223a06",
   "metadata": {},
   "outputs": [],
   "source": [
    "######"
   ]
  },
  {
   "cell_type": "code",
   "execution_count": 13,
   "id": "b7a2b228-d238-4fce-b86c-899e135ea2ac",
   "metadata": {},
   "outputs": [],
   "source": [
    "clus = AgglomerativeClustering(n_clusters=3)\n",
    "clus.fit(x_uns)\n",
    "c =  pd.Series(clus.fit_predict(x_uns))"
   ]
  },
  {
   "cell_type": "code",
   "execution_count": 14,
   "id": "3c007f28-aeae-4caf-929b-00b62e2c2309",
   "metadata": {},
   "outputs": [
    {
     "data": {
      "text/plain": [
       "0.6710526315789473"
      ]
     },
     "execution_count": 14,
     "metadata": {},
     "output_type": "execute_result"
    }
   ],
   "source": [
    "a_score =accuracy_score(y_all_uns, c)\n",
    "a_score"
   ]
  },
  {
   "cell_type": "code",
   "execution_count": 15,
   "id": "7e3bf07e-eb15-4623-aae7-3039f7093171",
   "metadata": {},
   "outputs": [
    {
     "data": {
      "text/plain": [
       "0.01862282294901882"
      ]
     },
     "execution_count": 15,
     "metadata": {},
     "output_type": "execute_result"
    }
   ],
   "source": [
    "n_score =normalized_mutual_info_score(y_all_uns,c)\n",
    "n_score"
   ]
  },
  {
   "cell_type": "code",
   "execution_count": 16,
   "id": "4127ffa8-9760-4d80-8236-fdf91ae25bca",
   "metadata": {},
   "outputs": [
    {
     "data": {
      "text/plain": [
       "0.09287888362271401"
      ]
     },
     "execution_count": 16,
     "metadata": {},
     "output_type": "execute_result"
    }
   ],
   "source": [
    "ad_score =adjusted_rand_score(y_all_uns, c)\n",
    "ad_score"
   ]
  },
  {
   "cell_type": "code",
   "execution_count": 17,
   "id": "1a8617ff-499f-4475-aa3d-43415cd2dfd2",
   "metadata": {},
   "outputs": [
    {
     "name": "stdout",
     "output_type": "stream",
     "text": [
      "predicted labels: 0: 552, 1: 101, 2: 31\n"
     ]
    }
   ],
   "source": [
    "print(\"predicted labels: 0: {}\".format(c.isin([0]).sum())+\", 1: {}\".format(c.isin([1]).sum())+\", 2: {}\".format(c.isin([2]).sum()))"
   ]
  },
  {
   "cell_type": "code",
   "execution_count": 19,
   "id": "a3593cac-413f-41e7-9be9-0bcc6d6c42b9",
   "metadata": {},
   "outputs": [
    {
     "name": "stdout",
     "output_type": "stream",
     "text": [
      "actuall labels: 0: 523, 1: 84, 2: 77\n"
     ]
    }
   ],
   "source": [
    "print(\"actuall labels: 0: {}\".format(y_all_uns.isin([0]).sum())+\", 1: {}\".format(y_all_uns.isin([1]).sum())+\", 2: {}\".format(y_all_uns.isin([2]).sum()))"
   ]
  },
  {
   "cell_type": "code",
   "execution_count": 79,
   "id": "d4259a14-ae34-4442-9c38-6c857da6672a",
   "metadata": {},
   "outputs": [
    {
     "data": {
      "text/plain": [
       "631"
      ]
     },
     "execution_count": 79,
     "metadata": {},
     "output_type": "execute_result"
    }
   ],
   "source": [
    "gpa = gpa_ids.to_numpy()\n",
    "compared_col_k = np.where(gpa == k, True, False)\n",
    "compared_col_k.sum()"
   ]
  },
  {
   "cell_type": "code",
   "execution_count": 10,
   "id": "ab7da29c-b6a8-4fe0-ba71-a7df72f9375f",
   "metadata": {},
   "outputs": [
    {
     "data": {
      "text/plain": [
       "85"
      ]
     },
     "execution_count": 10,
     "metadata": {},
     "output_type": "execute_result"
    }
   ],
   "source": [
    "k_ = pd.Series(k_means.predict(x_uns))\n",
    "print(\"GPA: {},\".format(gpa_ids.isin([1]).sum()) + \" GPA predicted: {}, \".format(k_.isin([1]).sum())+\" MPA: {},\".format(mpa_ids.isin([1]).sum()) + \" MPA predicted: {} \".format(k_.isin([0]).sum()))"
   ]
  },
  {
   "cell_type": "code",
   "execution_count": 11,
   "id": "9372d080-4803-4f0f-9656-a4705fe58c8a",
   "metadata": {},
   "outputs": [
    {
     "data": {
      "text/plain": [
       "48"
      ]
     },
     "execution_count": 11,
     "metadata": {},
     "output_type": "execute_result"
    }
   ],
   "source": [
    "compared_col_a = np.where(gpa == a_, True, False)\n",
    "compared_col_a.sum()"
   ]
  },
  {
   "cell_type": "code",
   "execution_count": 80,
   "id": "417a5954-6a8b-449c-8b78-26d5427a2467",
   "metadata": {},
   "outputs": [
    {
     "data": {
      "text/plain": [
       "0.0"
      ]
     },
     "execution_count": 80,
     "metadata": {},
     "output_type": "execute_result"
    }
   ],
   "source": [
    "dbscan = DBSCAN(eps=10, min_samples=2)\n",
    "d = dbscan.fit_predict(x_uns)\n",
    "score =adjusted_rand_score(y_all_uns, d_)\n",
    "score"
   ]
  },
  {
   "cell_type": "code",
   "execution_count": 79,
   "id": "07f89bea-7a71-4156-8fe7-40b35c8ada7b",
   "metadata": {},
   "outputs": [
    {
     "data": {
      "text/plain": [
       "0.0"
      ]
     },
     "execution_count": 79,
     "metadata": {},
     "output_type": "execute_result"
    }
   ],
   "source": [
    "a_score =accuracy_score(y_all_uns, d)\n",
    "a_score"
   ]
  },
  {
   "cell_type": "code",
   "execution_count": 81,
   "id": "0b251289-e937-4de9-9427-658d625c38f3",
   "metadata": {},
   "outputs": [
    {
     "data": {
      "text/plain": [
       "0.0"
      ]
     },
     "execution_count": 81,
     "metadata": {},
     "output_type": "execute_result"
    }
   ],
   "source": [
    "n_score =normalized_mutual_info_score(y_all_uns,d)\n",
    "n_score"
   ]
  },
  {
   "cell_type": "code",
   "execution_count": 82,
   "id": "0694b6b2-ca44-4b98-a391-a2b780be6afc",
   "metadata": {},
   "outputs": [
    {
     "data": {
      "text/plain": [
       "0.0"
      ]
     },
     "execution_count": 82,
     "metadata": {},
     "output_type": "execute_result"
    }
   ],
   "source": [
    "ad_score =adjusted_rand_score(y_all_uns, d)\n",
    "ad_score"
   ]
  },
  {
   "cell_type": "code",
   "execution_count": 17,
   "id": "fe3883a6-0f01-494b-b209-4063e5466262",
   "metadata": {},
   "outputs": [],
   "source": [
    "### 2 clusters"
   ]
  },
  {
   "cell_type": "code",
   "execution_count": null,
   "id": "7e6d3559-7e6e-4e6f-bd7f-5f83df6a7909",
   "metadata": {},
   "outputs": [],
   "source": [
    "y_uns get_y_x_to_unsupervised(df)"
   ]
  },
  {
   "cell_type": "code",
   "execution_count": 86,
   "id": "cbb5b5c2-fbf4-4991-901d-0640d0f3c606",
   "metadata": {},
   "outputs": [
    {
     "data": {
      "text/plain": [
       "0      0.0\n",
       "1      1.0\n",
       "2      0.0\n",
       "3      0.0\n",
       "4      1.0\n",
       "      ... \n",
       "878    0.0\n",
       "879    0.0\n",
       "881    0.0\n",
       "883    0.0\n",
       "884    0.0\n",
       "Name: Ogólne, Rozpoznanie kliniczne, Mikroskopowe zapalenie naczyń (MPA), Length: 684, dtype: float64"
      ]
     },
     "execution_count": 86,
     "metadata": {},
     "output_type": "execute_result"
    }
   ],
   "source": [
    "gpa_ids"
   ]
  },
  {
   "cell_type": "code",
   "execution_count": 89,
   "id": "cdbb0df8-8156-45ed-9af6-81a3b2642801",
   "metadata": {},
   "outputs": [
    {
     "data": {
      "text/plain": [
       "0.6425998517739678"
      ]
     },
     "execution_count": 89,
     "metadata": {},
     "output_type": "execute_result"
    }
   ],
   "source": [
    "k_means = KMeans(n_clusters=2)\n",
    "k =k_means.fit_predict(x_uns)\n",
    "score =adjusted_rand_score(gpa_ids, k)\n",
    "score"
   ]
  },
  {
   "cell_type": "code",
   "execution_count": 90,
   "id": "8eab1f5e-a92d-478d-9589-3e0cb4aae88c",
   "metadata": {},
   "outputs": [
    {
     "data": {
      "text/plain": [
       "0.49622464247147874"
      ]
     },
     "execution_count": 90,
     "metadata": {},
     "output_type": "execute_result"
    }
   ],
   "source": [
    "n_score =normalized_mutual_info_score(gpa_ids,k)\n",
    "n_score"
   ]
  },
  {
   "cell_type": "code",
   "execution_count": 91,
   "id": "88a68817-9824-4c4a-95df-b04a50528e92",
   "metadata": {},
   "outputs": [
    {
     "data": {
      "text/plain": [
       "0.6425998517739678"
      ]
     },
     "execution_count": 91,
     "metadata": {},
     "output_type": "execute_result"
    }
   ],
   "source": [
    "ad_score =adjusted_rand_score(gpa_ids,k)\n",
    "ad_score"
   ]
  },
  {
   "cell_type": "code",
   "execution_count": 95,
   "id": "977a7e3b-83c4-41cf-8552-4d55185f981b",
   "metadata": {},
   "outputs": [
    {
     "name": "stdout",
     "output_type": "stream",
     "text": [
      "0: 592, 1: 92 \n"
     ]
    }
   ],
   "source": [
    "k_ = pd.Series(k_means.predict(x_uns))\n",
    "print(\"0: {},\".format(k_.isin([0]).sum()) + \" 1: {} \".format(k_.isin([1]).sum()))"
   ]
  },
  {
   "cell_type": "code",
   "execution_count": 102,
   "id": "f00a2360-8e3a-4adc-88af-52bc03995b84",
   "metadata": {},
   "outputs": [],
   "source": [
    "clus = AgglomerativeClustering(n_clusters=2)\n",
    "clus.fit(x_uns)\n",
    "c =  pd.Series(clus.fit_predict(x_uns))"
   ]
  },
  {
   "cell_type": "code",
   "execution_count": 103,
   "id": "45704641-8f58-47cc-a3ab-345a6e90898f",
   "metadata": {},
   "outputs": [
    {
     "data": {
      "text/plain": [
       "0.6793925276222151"
      ]
     },
     "execution_count": 103,
     "metadata": {},
     "output_type": "execute_result"
    }
   ],
   "source": [
    "score =adjusted_rand_score(gpa_ids, c)\n",
    "score"
   ]
  },
  {
   "cell_type": "code",
   "execution_count": 104,
   "id": "90d45e4a-9bc1-4f8b-af3b-421ae9611ceb",
   "metadata": {},
   "outputs": [
    {
     "data": {
      "text/plain": [
       "0.5237210398300375"
      ]
     },
     "execution_count": 104,
     "metadata": {},
     "output_type": "execute_result"
    }
   ],
   "source": [
    "n_score =normalized_mutual_info_score(gpa_ids,c)\n",
    "n_score"
   ]
  },
  {
   "cell_type": "code",
   "execution_count": 105,
   "id": "930209ca-f8a9-4d0e-9cf7-3a6105d0ac55",
   "metadata": {},
   "outputs": [
    {
     "data": {
      "text/plain": [
       "0.6793925276222151"
      ]
     },
     "execution_count": 105,
     "metadata": {},
     "output_type": "execute_result"
    }
   ],
   "source": [
    "ad_score =adjusted_rand_score(gpa_ids,c)\n",
    "ad_score"
   ]
  },
  {
   "cell_type": "code",
   "execution_count": 106,
   "id": "1906ef44-ff1e-47cc-bc46-a9e766a09f4b",
   "metadata": {},
   "outputs": [
    {
     "name": "stdout",
     "output_type": "stream",
     "text": [
      "0: 583, 1: 101 \n"
     ]
    }
   ],
   "source": [
    "print(\"0: {},\".format(c.isin([0]).sum()) + \" 1: {} \".format(c.isin([1]).sum()))"
   ]
  },
  {
   "cell_type": "code",
   "execution_count": 5,
   "id": "e1e12d27-069b-48d4-baf8-53b68856b93e",
   "metadata": {},
   "outputs": [
    {
     "name": "stdout",
     "output_type": "stream",
     "text": [
      "0: 551, 1: 133 \n"
     ]
    }
   ],
   "source": [
    "print(\"0: {},\".format(mpa_ids.isin([0]).sum()) + \" 1: {} \".format(mpa_ids.isin([1]).sum()))"
   ]
  },
  {
   "cell_type": "code",
   "execution_count": null,
   "id": "dbce4245-69cb-4d66-8b0a-f5f87d7e0c1a",
   "metadata": {},
   "outputs": [],
   "source": []
  }
 ],
 "metadata": {
  "kernelspec": {
   "display_name": "Python 3",
   "language": "python",
   "name": "python3"
  },
  "language_info": {
   "codemirror_mode": {
    "name": "ipython",
    "version": 3
   },
   "file_extension": ".py",
   "mimetype": "text/x-python",
   "name": "python",
   "nbconvert_exporter": "python",
   "pygments_lexer": "ipython3",
   "version": "3.7.9"
  }
 },
 "nbformat": 4,
 "nbformat_minor": 5
}
