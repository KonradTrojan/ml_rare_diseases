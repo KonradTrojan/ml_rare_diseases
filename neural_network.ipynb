{
 "cells": [
  {
   "cell_type": "code",
   "execution_count": 2,
   "id": "bb710189-b207-413a-a89e-2c994921ab0d",
   "metadata": {},
   "outputs": [],
   "source": [
    "from sklearn import preprocessing\n",
    "from sklearn.linear_model import LinearRegression\n",
    "from sklearn.linear_model import LogisticRegression\n",
    "from sklearn.svm import LinearSVC\n",
    "from sklearn.svm import SVC\n",
    "from sklearn.metrics import mean_squared_error\n",
    "from sklearn.metrics import mean_absolute_error\n",
    "from sklearn.model_selection import train_test_split\n",
    "from sklearn.metrics import mean_absolute_percentage_error\n",
    "from sklearn.tree import DecisionTreeRegressor\n",
    "from sklearn.tree import DecisionTreeClassifier\n",
    "from sklearn.ensemble import RandomForestClassifier\n",
    "from sklearn.neural_network import MLPClassifier\n",
    "from sklearn.metrics import classification_report, confusion_matrix\n",
    "from sklearn.naive_bayes import BernoulliNB\n",
    "from sklearn.model_selection import cross_val_score\n",
    "from sklearn.model_selection import ShuffleSplit"
   ]
  },
  {
   "cell_type": "code",
   "execution_count": 2,
   "id": "c60673e9-9baa-4201-bc5d-739ff038079d",
   "metadata": {},
   "outputs": [],
   "source": [
    "%run processing.ipynb"
   ]
  },
  {
   "cell_type": "code",
   "execution_count": 3,
   "id": "f6574e25-bd2a-4716-b41b-5aea9a26aed6",
   "metadata": {},
   "outputs": [],
   "source": [
    "%run processing_methods.ipynb"
   ]
  },
  {
   "cell_type": "code",
   "execution_count": 4,
   "id": "101e14a6-9484-4c33-acdc-73aeaa0389a4",
   "metadata": {},
   "outputs": [],
   "source": [
    "%run ml_methods.ipynb"
   ]
  },
  {
   "cell_type": "code",
   "execution_count": 5,
   "id": "0af32791-662e-4450-b0fb-e2ee995a3bca",
   "metadata": {},
   "outputs": [],
   "source": [
    "x_ = x_all.copy()\n",
    "y_ = y_all.copy()"
   ]
  },
  {
   "cell_type": "code",
   "execution_count": 6,
   "id": "a07e09d9-2287-4d65-90d3-864c63b71d4c",
   "metadata": {},
   "outputs": [],
   "source": [
    "x_trainval, x_test, y_trainval, y_test = train_test_split(x_,y_)\n",
    "x_train, x_val, y_train, y_val = train_test_split(x_trainval,y_trainval)"
   ]
  },
  {
   "cell_type": "code",
   "execution_count": 7,
   "id": "afc5d7e1-c702-4e71-9d91-e858c5b75e3c",
   "metadata": {},
   "outputs": [
    {
     "data": {
      "text/plain": [
       "(171,)"
      ]
     },
     "execution_count": 7,
     "metadata": {},
     "output_type": "execute_result"
    }
   ],
   "source": [
    "y_test.shape"
   ]
  },
  {
   "cell_type": "code",
   "execution_count": 8,
   "id": "a23da496-aa95-4bed-b043-9083458f5404",
   "metadata": {},
   "outputs": [],
   "source": [
    "best_score = 0\n",
    "l1 = 0\n",
    "l2 = 0\n",
    "for i in range(10,55,5):\n",
    "    for j in range(10,i,5):\n",
    "        for r in range(1,10,2):\n",
    "            model  = MLPClassifier(random_state=r, hidden_layer_sizes=[i,j], max_iter=10000).fit(x_train, y_train)\n",
    "            score = model.score(x_val, y_val)\n",
    "            if score > best_score:\n",
    "                best_score = score\n",
    "                best_parametrs = {'random_state': r, '1l': i, '2l': j}\n",
    "                l1 = i\n",
    "                l2 = j\n",
    "                random_state = r\n",
    "            \n",
    "model  = MLPClassifier(random_state=random_state, hidden_layer_sizes=[l1,l2], max_iter=10000).fit(x_trainval, y_trainval)\n",
    "test_score = model.score(x_test, y_test)"
   ]
  },
  {
   "cell_type": "code",
   "execution_count": 9,
   "id": "4fcc3542-8d3f-4ba9-94f1-f8742e9522f9",
   "metadata": {},
   "outputs": [
    {
     "name": "stdout",
     "output_type": "stream",
     "text": [
      "best_parametrs: {'random_state': 1, '1l': 20, '2l': 10}\n",
      "test_score: 0.9298245614035088\n",
      "best_score: 0.9147286821705426\n"
     ]
    }
   ],
   "source": [
    "print(\"best_parametrs: {}\".format(best_parametrs))\n",
    "print(\"test_score: {}\".format(test_score))\n",
    "print(\"best_score: {}\".format(best_score))"
   ]
  },
  {
   "cell_type": "code",
   "execution_count": 10,
   "id": "5c171e05-525c-4a10-a26b-12f741050e96",
   "metadata": {},
   "outputs": [],
   "source": [
    "best_score = 0\n",
    "l1 = 0\n",
    "l2 = 0\n",
    "for i in range(20,30,1):\n",
    "    for j in range(15,20,1):\n",
    "        model  = MLPClassifier(random_state=1, hidden_layer_sizes=[i,j], max_iter=10000).fit(x_train, y_train)\n",
    "        score = model.score(x_val, y_val)\n",
    "        if score > best_score:\n",
    "            best_score = score\n",
    "            best_parametrs = {'random_state': r, '1l': i, '2l': j}\n",
    "            l1 = i\n",
    "            l2 = j\n",
    "            \n",
    "model  = MLPClassifier(random_state=random_state, hidden_layer_sizes=[l1,l2], max_iter=10000).fit(x_trainval, y_trainval)\n",
    "test_score = model.score(x_test, y_test)"
   ]
  },
  {
   "cell_type": "code",
   "execution_count": 11,
   "id": "ce3cf8ff-32fb-4522-bb4b-d547d4f64dea",
   "metadata": {},
   "outputs": [
    {
     "name": "stdout",
     "output_type": "stream",
     "text": [
      "best_parametrs: {'random_state': 9, '1l': 21, '2l': 18}\n",
      "test_score: 0.9239766081871345\n",
      "best_score: 0.9147286821705426\n"
     ]
    }
   ],
   "source": [
    "print(\"best_parametrs: {}\".format(best_parametrs))\n",
    "print(\"test_score: {}\".format(test_score))\n",
    "print(\"best_score: {}\".format(best_score))"
   ]
  },
  {
   "cell_type": "code",
   "execution_count": 12,
   "id": "e5a9e4ef-1624-4d08-a679-3c681ceea671",
   "metadata": {},
   "outputs": [],
   "source": [
    "result = neural_network_const(x_trainval, x_test, y_trainval, y_test, l1, l2, random_state)"
   ]
  },
  {
   "cell_type": "code",
   "execution_count": 13,
   "id": "920df0f6-7772-4498-bcae-40bd7fa93d1d",
   "metadata": {},
   "outputs": [
    {
     "name": "stdout",
     "output_type": "stream",
     "text": [
      "[[133   1   7]\n",
      " [  1  14   1]\n",
      " [  2   1  11]]\n"
     ]
    }
   ],
   "source": [
    "print(result.confusion_matrix)"
   ]
  },
  {
   "cell_type": "code",
   "execution_count": 14,
   "id": "21d8fbdf-651a-46b5-85f9-04c34debe9c7",
   "metadata": {},
   "outputs": [
    {
     "name": "stdout",
     "output_type": "stream",
     "text": [
      "              precision    recall  f1-score   support\n",
      "\n",
      "         0.0       0.98      0.94      0.96       141\n",
      "         1.0       0.88      0.88      0.88        16\n",
      "         2.0       0.58      0.79      0.67        14\n",
      "\n",
      "    accuracy                           0.92       171\n",
      "   macro avg       0.81      0.87      0.83       171\n",
      "weighted avg       0.94      0.92      0.93       171\n",
      "\n"
     ]
    }
   ],
   "source": [
    "print(result.classification_report)"
   ]
  },
  {
   "cell_type": "code",
   "execution_count": 15,
   "id": "ef7f1173-311c-4423-b792-547cd080e6da",
   "metadata": {},
   "outputs": [],
   "source": [
    "#####################  GPA ##########################"
   ]
  },
  {
   "cell_type": "code",
   "execution_count": 16,
   "id": "a65187fe-d17e-4237-8698-84d127408f2b",
   "metadata": {},
   "outputs": [],
   "source": [
    "y_gpa, x_gpa = get_y_x(get_GPA_data(df))"
   ]
  },
  {
   "cell_type": "code",
   "execution_count": 17,
   "id": "e5d39e8a-9ea7-4f35-85e0-83ce535573b8",
   "metadata": {},
   "outputs": [],
   "source": [
    "x_trainval, x_test, y_trainval, y_test = train_test_split(x_gpa,y_gpa)\n",
    "x_train, x_val, y_train, y_val = train_test_split(x_trainval,y_trainval)"
   ]
  },
  {
   "cell_type": "code",
   "execution_count": 18,
   "id": "bd5943a4-4db7-462e-8ee2-0db78a102504",
   "metadata": {},
   "outputs": [
    {
     "data": {
      "text/plain": [
       "(551, 57)"
      ]
     },
     "execution_count": 18,
     "metadata": {},
     "output_type": "execute_result"
    }
   ],
   "source": [
    "x_gpa.shape"
   ]
  },
  {
   "cell_type": "code",
   "execution_count": 19,
   "id": "d8df689e-2514-43f6-91a5-f9729a3832d2",
   "metadata": {},
   "outputs": [],
   "source": [
    "best_score = 0\n",
    "l1 = 0\n",
    "l2 = 0\n",
    "for i in range(20,55,5):\n",
    "    for j in range(10,i,5):\n",
    "        for r in range(1,10,2):\n",
    "            model  = MLPClassifier(random_state=r, hidden_layer_sizes=[i,j], max_iter=10000).fit(x_train, y_train)\n",
    "            score = model.score(x_val, y_val)\n",
    "            if score > best_score:\n",
    "                best_score = score\n",
    "                best_parametrs = {'random_state': r, '1l': i, '2l': j}\n",
    "                l1 = i\n",
    "                l2 = j\n",
    "                random_state = r\n",
    "            \n",
    "model  = MLPClassifier(random_state=random_state, hidden_layer_sizes=[l1,l2], max_iter=10000).fit(x_trainval, y_trainval)\n",
    "test_score = model.score(x_test, y_test)"
   ]
  },
  {
   "cell_type": "code",
   "execution_count": 20,
   "id": "36f0f0a0-8b61-4c40-98f7-0692a26bdf81",
   "metadata": {},
   "outputs": [
    {
     "name": "stdout",
     "output_type": "stream",
     "text": [
      "best_parametrs: {'random_state': 1, '1l': 30, '2l': 15}\n",
      "test_score: 0.8695652173913043\n",
      "best_score: 0.9326923076923077\n"
     ]
    }
   ],
   "source": [
    "print(\"best_parametrs: {}\".format(best_parametrs))\n",
    "print(\"test_score: {}\".format(test_score))\n",
    "print(\"best_score: {}\".format(best_score))"
   ]
  },
  {
   "cell_type": "code",
   "execution_count": 23,
   "id": "f1b701aa-add5-465c-9965-27cc700bd93e",
   "metadata": {},
   "outputs": [],
   "source": [
    "best_score = 0\n",
    "l1 = 0\n",
    "l2 = 0\n",
    "for i in range(best_parametrs['1l']-5,best_parametrs['1l']+5,1):\n",
    "    for j in range(best_parametrs['2l']-5,best_parametrs['1l']+5,1):\n",
    "        model  = MLPClassifier(random_state=1, hidden_layer_sizes=[i,j], max_iter=10000).fit(x_train, y_train)\n",
    "        score = model.score(x_val, y_val)\n",
    "        if score > best_score:\n",
    "            best_score = score\n",
    "            best_parametrs = {'random_state': r, '1l': i, '2l': j}\n",
    "            l1 = i\n",
    "            l2 = j\n",
    "            \n",
    "model  = MLPClassifier(random_state=random_state, hidden_layer_sizes=[l1,l2], max_iter=10000).fit(x_trainval, y_trainval)\n",
    "test_score = model.score(x_test, y_test)"
   ]
  },
  {
   "cell_type": "code",
   "execution_count": 24,
   "id": "fc8a4798-5ec3-4721-9e91-ba1c545f487d",
   "metadata": {},
   "outputs": [
    {
     "name": "stdout",
     "output_type": "stream",
     "text": [
      "best_parametrs: {'random_state': 9, '1l': 30, '2l': 23}\n",
      "test_score: 0.8695652173913043\n",
      "best_score: 0.9423076923076923\n"
     ]
    }
   ],
   "source": [
    "print(\"best_parametrs: {}\".format(best_parametrs))\n",
    "print(\"test_score: {}\".format(test_score))\n",
    "print(\"best_score: {}\".format(best_score))"
   ]
  },
  {
   "cell_type": "code",
   "execution_count": null,
   "id": "b4cef437-2acc-40f4-bcbf-e071f081cb08",
   "metadata": {},
   "outputs": [],
   "source": []
  }
 ],
 "metadata": {
  "kernelspec": {
   "display_name": "Python 3",
   "language": "python",
   "name": "python3"
  },
  "language_info": {
   "codemirror_mode": {
    "name": "ipython",
    "version": 3
   },
   "file_extension": ".py",
   "mimetype": "text/x-python",
   "name": "python",
   "nbconvert_exporter": "python",
   "pygments_lexer": "ipython3",
   "version": "3.7.9"
  }
 },
 "nbformat": 4,
 "nbformat_minor": 5
}
